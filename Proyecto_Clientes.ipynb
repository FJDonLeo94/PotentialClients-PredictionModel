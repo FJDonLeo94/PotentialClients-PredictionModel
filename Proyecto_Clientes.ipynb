{
  "nbformat": 4,
  "nbformat_minor": 0,
  "metadata": {
    "colab": {
      "provenance": [],
      "collapsed_sections": [
        "Xj5X6RfCqFQR",
        "7alqNogHwI70",
        "SgVD4Jh4MqsB"
      ]
    },
    "kernelspec": {
      "name": "python3",
      "display_name": "Python 3"
    },
    "language_info": {
      "name": "python"
    }
  },
  "cells": [
    {
      "cell_type": "markdown",
      "source": [
        "#Adición de librerias\n"
      ],
      "metadata": {
        "id": "ICPpjXItiro1"
      }
    },
    {
      "cell_type": "code",
      "source": [
        "!pip install Gradio --upgrade\n",
        "import gradio as gr\n",
        "import os\n",
        "import numpy as np \n",
        "import pandas as pd\n",
        "#visualizacion de datos\n",
        "import seaborn as sns\n",
        "import matplotlib.pyplot as plt\n",
        "#Balanceamiento de datos\n",
        "from sklearn.utils import resample\n",
        "#Sustituir nulos mediante prediccion con un modelo\n",
        "from sklearn.impute import KNNImputer\n",
        "#Importar modelo RFC\n",
        "from sklearn.ensemble import RandomForestClassifier\n",
        "#Dividir dataset, validación cruzada \n",
        "from sklearn.model_selection import train_test_split, cross_val_score \n",
        "from sklearn.model_selection import StratifiedKFold, KFold\n",
        "#normalizacion\n",
        "from sklearn.preprocessing import MinMaxScaler\n",
        "#creacion de modelo y metricas\n",
        "import tensorflow as tf\n",
        "from sklearn.preprocessing import StandardScaler\n",
        "from keras.models import Sequential\n",
        "from keras.layers import Dense\n",
        "from sklearn.metrics import roc_curve, auc, confusion_matrix, accuracy_score\n",
        "from sklearn.metrics import precision_score, recall_score, RocCurveDisplay\n",
        "from sklearn.metrics import classification_report\n"
      ],
      "metadata": {
        "colab": {
          "base_uri": "https://localhost:8080/"
        },
        "id": "QPrEftloiynL",
        "outputId": "7d3cca90-8932-4a6d-92c5-1f55846a8805"
      },
      "execution_count": 7,
      "outputs": [
        {
          "output_type": "stream",
          "name": "stdout",
          "text": [
            "Looking in indexes: https://pypi.org/simple, https://us-python.pkg.dev/colab-wheels/public/simple/\n",
            "Requirement already satisfied: Gradio in /usr/local/lib/python3.10/dist-packages (3.31.0)\n",
            "Requirement already satisfied: aiofiles in /usr/local/lib/python3.10/dist-packages (from Gradio) (23.1.0)\n",
            "Requirement already satisfied: aiohttp in /usr/local/lib/python3.10/dist-packages (from Gradio) (3.8.4)\n",
            "Requirement already satisfied: altair>=4.2.0 in /usr/local/lib/python3.10/dist-packages (from Gradio) (4.2.2)\n",
            "Requirement already satisfied: fastapi in /usr/local/lib/python3.10/dist-packages (from Gradio) (0.95.2)\n",
            "Requirement already satisfied: ffmpy in /usr/local/lib/python3.10/dist-packages (from Gradio) (0.3.0)\n",
            "Requirement already satisfied: gradio-client>=0.2.4 in /usr/local/lib/python3.10/dist-packages (from Gradio) (0.2.5)\n",
            "Requirement already satisfied: httpx in /usr/local/lib/python3.10/dist-packages (from Gradio) (0.24.1)\n",
            "Requirement already satisfied: huggingface-hub>=0.13.0 in /usr/local/lib/python3.10/dist-packages (from Gradio) (0.14.1)\n",
            "Requirement already satisfied: jinja2 in /usr/local/lib/python3.10/dist-packages (from Gradio) (3.1.2)\n",
            "Requirement already satisfied: markdown-it-py[linkify]>=2.0.0 in /usr/local/lib/python3.10/dist-packages (from Gradio) (2.2.0)\n",
            "Requirement already satisfied: markupsafe in /usr/local/lib/python3.10/dist-packages (from Gradio) (2.1.2)\n",
            "Requirement already satisfied: matplotlib in /usr/local/lib/python3.10/dist-packages (from Gradio) (3.7.1)\n",
            "Requirement already satisfied: mdit-py-plugins<=0.3.3 in /usr/local/lib/python3.10/dist-packages (from Gradio) (0.3.3)\n",
            "Requirement already satisfied: numpy in /usr/local/lib/python3.10/dist-packages (from Gradio) (1.22.4)\n",
            "Requirement already satisfied: orjson in /usr/local/lib/python3.10/dist-packages (from Gradio) (3.8.12)\n",
            "Requirement already satisfied: pandas in /usr/local/lib/python3.10/dist-packages (from Gradio) (1.5.3)\n",
            "Requirement already satisfied: pillow in /usr/local/lib/python3.10/dist-packages (from Gradio) (8.4.0)\n",
            "Requirement already satisfied: pydantic in /usr/local/lib/python3.10/dist-packages (from Gradio) (1.10.7)\n",
            "Requirement already satisfied: pydub in /usr/local/lib/python3.10/dist-packages (from Gradio) (0.25.1)\n",
            "Requirement already satisfied: pygments>=2.12.0 in /usr/local/lib/python3.10/dist-packages (from Gradio) (2.14.0)\n",
            "Requirement already satisfied: python-multipart in /usr/local/lib/python3.10/dist-packages (from Gradio) (0.0.6)\n",
            "Requirement already satisfied: pyyaml in /usr/local/lib/python3.10/dist-packages (from Gradio) (6.0)\n",
            "Requirement already satisfied: requests in /usr/local/lib/python3.10/dist-packages (from Gradio) (2.27.1)\n",
            "Requirement already satisfied: semantic-version in /usr/local/lib/python3.10/dist-packages (from Gradio) (2.10.0)\n",
            "Requirement already satisfied: typing-extensions in /usr/local/lib/python3.10/dist-packages (from Gradio) (4.5.0)\n",
            "Requirement already satisfied: uvicorn>=0.14.0 in /usr/local/lib/python3.10/dist-packages (from Gradio) (0.22.0)\n",
            "Requirement already satisfied: websockets>=10.0 in /usr/local/lib/python3.10/dist-packages (from Gradio) (11.0.3)\n",
            "Requirement already satisfied: entrypoints in /usr/local/lib/python3.10/dist-packages (from altair>=4.2.0->Gradio) (0.4)\n",
            "Requirement already satisfied: jsonschema>=3.0 in /usr/local/lib/python3.10/dist-packages (from altair>=4.2.0->Gradio) (4.3.3)\n",
            "Requirement already satisfied: toolz in /usr/local/lib/python3.10/dist-packages (from altair>=4.2.0->Gradio) (0.12.0)\n",
            "Requirement already satisfied: fsspec in /usr/local/lib/python3.10/dist-packages (from gradio-client>=0.2.4->Gradio) (2023.4.0)\n",
            "Requirement already satisfied: packaging in /usr/local/lib/python3.10/dist-packages (from gradio-client>=0.2.4->Gradio) (23.1)\n",
            "Requirement already satisfied: filelock in /usr/local/lib/python3.10/dist-packages (from huggingface-hub>=0.13.0->Gradio) (3.12.0)\n",
            "Requirement already satisfied: tqdm>=4.42.1 in /usr/local/lib/python3.10/dist-packages (from huggingface-hub>=0.13.0->Gradio) (4.65.0)\n",
            "Requirement already satisfied: mdurl~=0.1 in /usr/local/lib/python3.10/dist-packages (from markdown-it-py[linkify]>=2.0.0->Gradio) (0.1.2)\n",
            "Requirement already satisfied: linkify-it-py<3,>=1 in /usr/local/lib/python3.10/dist-packages (from markdown-it-py[linkify]>=2.0.0->Gradio) (2.0.2)\n",
            "Requirement already satisfied: python-dateutil>=2.8.1 in /usr/local/lib/python3.10/dist-packages (from pandas->Gradio) (2.8.2)\n",
            "Requirement already satisfied: pytz>=2020.1 in /usr/local/lib/python3.10/dist-packages (from pandas->Gradio) (2022.7.1)\n",
            "Requirement already satisfied: click>=7.0 in /usr/local/lib/python3.10/dist-packages (from uvicorn>=0.14.0->Gradio) (8.1.3)\n",
            "Requirement already satisfied: h11>=0.8 in /usr/local/lib/python3.10/dist-packages (from uvicorn>=0.14.0->Gradio) (0.14.0)\n",
            "Requirement already satisfied: attrs>=17.3.0 in /usr/local/lib/python3.10/dist-packages (from aiohttp->Gradio) (23.1.0)\n",
            "Requirement already satisfied: charset-normalizer<4.0,>=2.0 in /usr/local/lib/python3.10/dist-packages (from aiohttp->Gradio) (2.0.12)\n",
            "Requirement already satisfied: multidict<7.0,>=4.5 in /usr/local/lib/python3.10/dist-packages (from aiohttp->Gradio) (6.0.4)\n",
            "Requirement already satisfied: async-timeout<5.0,>=4.0.0a3 in /usr/local/lib/python3.10/dist-packages (from aiohttp->Gradio) (4.0.2)\n",
            "Requirement already satisfied: yarl<2.0,>=1.0 in /usr/local/lib/python3.10/dist-packages (from aiohttp->Gradio) (1.9.2)\n",
            "Requirement already satisfied: frozenlist>=1.1.1 in /usr/local/lib/python3.10/dist-packages (from aiohttp->Gradio) (1.3.3)\n",
            "Requirement already satisfied: aiosignal>=1.1.2 in /usr/local/lib/python3.10/dist-packages (from aiohttp->Gradio) (1.3.1)\n",
            "Requirement already satisfied: starlette<0.28.0,>=0.27.0 in /usr/local/lib/python3.10/dist-packages (from fastapi->Gradio) (0.27.0)\n",
            "Requirement already satisfied: certifi in /usr/local/lib/python3.10/dist-packages (from httpx->Gradio) (2022.12.7)\n",
            "Requirement already satisfied: httpcore<0.18.0,>=0.15.0 in /usr/local/lib/python3.10/dist-packages (from httpx->Gradio) (0.17.1)\n",
            "Requirement already satisfied: idna in /usr/local/lib/python3.10/dist-packages (from httpx->Gradio) (3.4)\n",
            "Requirement already satisfied: sniffio in /usr/local/lib/python3.10/dist-packages (from httpx->Gradio) (1.3.0)\n",
            "Requirement already satisfied: contourpy>=1.0.1 in /usr/local/lib/python3.10/dist-packages (from matplotlib->Gradio) (1.0.7)\n",
            "Requirement already satisfied: cycler>=0.10 in /usr/local/lib/python3.10/dist-packages (from matplotlib->Gradio) (0.11.0)\n",
            "Requirement already satisfied: fonttools>=4.22.0 in /usr/local/lib/python3.10/dist-packages (from matplotlib->Gradio) (4.39.3)\n",
            "Requirement already satisfied: kiwisolver>=1.0.1 in /usr/local/lib/python3.10/dist-packages (from matplotlib->Gradio) (1.4.4)\n",
            "Requirement already satisfied: pyparsing>=2.3.1 in /usr/local/lib/python3.10/dist-packages (from matplotlib->Gradio) (3.0.9)\n",
            "Requirement already satisfied: urllib3<1.27,>=1.21.1 in /usr/local/lib/python3.10/dist-packages (from requests->Gradio) (1.26.15)\n",
            "Requirement already satisfied: anyio<5.0,>=3.0 in /usr/local/lib/python3.10/dist-packages (from httpcore<0.18.0,>=0.15.0->httpx->Gradio) (3.6.2)\n",
            "Requirement already satisfied: pyrsistent!=0.17.0,!=0.17.1,!=0.17.2,>=0.14.0 in /usr/local/lib/python3.10/dist-packages (from jsonschema>=3.0->altair>=4.2.0->Gradio) (0.19.3)\n",
            "Requirement already satisfied: uc-micro-py in /usr/local/lib/python3.10/dist-packages (from linkify-it-py<3,>=1->markdown-it-py[linkify]>=2.0.0->Gradio) (1.0.2)\n",
            "Requirement already satisfied: six>=1.5 in /usr/local/lib/python3.10/dist-packages (from python-dateutil>=2.8.1->pandas->Gradio) (1.16.0)\n"
          ]
        }
      ]
    },
    {
      "cell_type": "markdown",
      "source": [
        "#Adicion de funciones"
      ],
      "metadata": {
        "id": "Xj5X6RfCqFQR"
      }
    },
    {
      "cell_type": "code",
      "source": [
        "#Funcion valores nulos\n",
        "def columnas_nan_porcentaje(df):\n",
        "    col_nan = df.isnull().sum()\n",
        "    print(col_nan[col_nan > 0]/len(df)*100)\n",
        "\n",
        "\n",
        "#  Esta funcion toma un dataframe, almacena el sumatorio de valores nulos de cada columna en la variable col_nan\n",
        "#    luego toma todas las columnas con mas de 0 valores nulos y los divide entre la longitud del dataset y los multiplica *100\n",
        "#    para obtener el % de valores nulos de cada columna "
      ],
      "metadata": {
        "id": "sykANiQ4qB8F"
      },
      "execution_count": 8,
      "outputs": []
    },
    {
      "cell_type": "code",
      "source": [
        "#Función division de columnas categoricas\n",
        "def onehot_encode(df, column):\n",
        "    #Se crea la varianle dummies, en ella se usa el get_dummies\n",
        "    #get_dummies es una funcion de pandas la cual utiliza como data la columna dentro del dataframe\n",
        "    #que queremos pasar de categorica a numerica\n",
        "    #prefix es el prefijo que se añadira a las nuevas columnas\n",
        "    dummies = pd.get_dummies(df[column], prefix=column)\n",
        "    #Asi es como se verian las dos nuevas columnas\n",
        "    print(dummies.head())\n",
        "\n",
        "    df = pd.concat([df, dummies], axis=1) #Se unen las dos nuevas columnas al dataframe\n",
        "    df = df.drop(column, axis=1)          #Se elimina la columna original\n",
        "    #axis=1 es indicativo de que estamos trabajando con una columna entera\n",
        "    return df"
      ],
      "metadata": {
        "id": "zxNpsQkqqLqA"
      },
      "execution_count": 9,
      "outputs": []
    },
    {
      "cell_type": "code",
      "source": [
        "#Funcion generaion de modelo\n",
        "def informe_modelo(y_test, y_pred):\n",
        "\n",
        "    # Calcular exactitud, precision y recall (sensibilidad)\n",
        "    accuracy = accuracy_score(y_test, y_pred)\n",
        "    precision = precision_score(y_test, y_pred)\n",
        "    recall = recall_score(y_test, y_pred)\n",
        "\n",
        "    # Print results\n",
        "    print(\"La exactitud es:\", accuracy)\n",
        "    print(\"La precision es:\", precision)\n",
        "    print(\"La sensibilidad es:\", recall)\n",
        "    \n",
        "    print(\"\"\"\n",
        "    \n",
        "    \n",
        "    \"\"\")\n",
        "    # Generar la matriz de confusion\n",
        "    conf_mtx = confusion_matrix(y_test, y_pred)\n",
        "    #Con la matriz de confusion generar un mapa de calor \n",
        "    sns.heatmap(conf_mtx, annot=True, cmap='Blues')\n",
        "    plt.xlabel('Predicho')\n",
        "    plt.ylabel('Real')\n",
        "    plt.show()\n",
        "    \n",
        "    print(\"\"\"\n",
        "    \n",
        "    \n",
        "    \"\"\")\n",
        "    # Grafico con la curva ROC y are AUC\n",
        "    \"\"\"FPR = Tasa de falsos positivos\n",
        "       TPR = Tasa de verdaderos positivos\n",
        "       Thresholds = Es un array que representa los umbrales utilizados para calcular las tasas de Falsos y Verdaderos Positivos\"\"\"\n",
        "    fpr, tpr, thresholds = roc_curve(y_test, y_pred)\n",
        "\n",
        "    #Se calcula el area AUC\n",
        "    roc_auc = auc(fpr, tpr)\n",
        "\n",
        "    \n",
        "    #genero el gráfico\n",
        "    display = RocCurveDisplay(fpr=fpr, tpr=tpr,\n",
        "              roc_auc=roc_auc, estimator_name=\"Curva ROC\")\n",
        "    display.plot()\n",
        "    plt.show()"
      ],
      "metadata": {
        "id": "11izge2kqL59"
      },
      "execution_count": 10,
      "outputs": []
    },
    {
      "cell_type": "markdown",
      "source": [
        "#Adicion del dataset"
      ],
      "metadata": {
        "id": "raZbwofxnKnz"
      }
    },
    {
      "cell_type": "code",
      "source": [
        "#https://drive.google.com/file/d/1pptyk_bR9gApYfpFmBZivBi67AU4EMgI/view?usp=drive_link",
        "!gdown --id 1pptyk_bR9gApYfpFmBZivBi67AU4EMgI",
        "\n",
        "## Carga del fichero en Python\n",
        "df_train = pd.read_csv('Leads.csv', delimiter=',')\n",
        "\n",
        "df_train.head(5)"
      ],
      "metadata": {
        "colab": {
          "base_uri": "https://localhost:8080/",
          "height": 644
        },
        "id": "yrIVMm-CnNmv",
        "outputId": "4ed6b36d-0993-4ac1-b0c3-58989c156647"
      },
      "execution_count": 79,
      "outputs": [
        {
          "output_type": "stream",
          "name": "stdout",
          "text": [
            "/usr/local/lib/python3.10/dist-packages/gdown/cli.py:121: FutureWarning: Option `--id` was deprecated in version 4.3.1 and will be removed in 5.0. You don't need to pass it anymore to use a file ID.\n",
            "  warnings.warn(\n",
            "Downloading...\n",
            "From: https://drive.google.com/uc?id=1lqQViFzrT3HFZJY-AIjqUTtJANRwdRmr\n",
            "To: /content/Leads.csv\n",
            "100% 2.37M/2.37M [00:00<00:00, 180MB/s]\n"
          ]
        },
        {
          "output_type": "execute_result",
          "data": {
            "text/plain": [
              "                            Prospect ID  Lead Number              Lead Origin  \\\n",
              "0  7927b2df-8bba-4d29-b9a2-b6e0beafe620       660737                      API   \n",
              "1  2a272436-5132-4136-86fa-dcc88c88f482       660728                      API   \n",
              "2  8cc8c611-a219-4f35-ad23-fdfd2656bd8a       660727  Landing Page Submission   \n",
              "3  0cc2df48-7cf4-4e39-9de9-19797f9b38cc       660719  Landing Page Submission   \n",
              "4  3256f628-e534-4826-9d63-4a8b88782852       660681  Landing Page Submission   \n",
              "\n",
              "      Lead Source Do Not Email Do Not Call  Converted  TotalVisits  \\\n",
              "0      Olark Chat           No          No          0          0.0   \n",
              "1  Organic Search           No          No          0          5.0   \n",
              "2  Direct Traffic           No          No          1          2.0   \n",
              "3  Direct Traffic           No          No          0          1.0   \n",
              "4          Google           No          No          1          2.0   \n",
              "\n",
              "   Total Time Spent on Website  Page Views Per Visit  ...  \\\n",
              "0                            0                   0.0  ...   \n",
              "1                          674                   2.5  ...   \n",
              "2                         1532                   2.0  ...   \n",
              "3                          305                   1.0  ...   \n",
              "4                         1428                   1.0  ...   \n",
              "\n",
              "  Get updates on DM Content    Lead Profile    City  \\\n",
              "0                        No          Select  Select   \n",
              "1                        No          Select  Select   \n",
              "2                        No  Potential Lead  Mumbai   \n",
              "3                        No          Select  Mumbai   \n",
              "4                        No          Select  Mumbai   \n",
              "\n",
              "  Asymmetrique Activity Index Asymmetrique Profile Index  \\\n",
              "0                   02.Medium                  02.Medium   \n",
              "1                   02.Medium                  02.Medium   \n",
              "2                   02.Medium                    01.High   \n",
              "3                   02.Medium                    01.High   \n",
              "4                   02.Medium                    01.High   \n",
              "\n",
              "  Asymmetrique Activity Score Asymmetrique Profile Score  \\\n",
              "0                        15.0                       15.0   \n",
              "1                        15.0                       15.0   \n",
              "2                        14.0                       20.0   \n",
              "3                        13.0                       17.0   \n",
              "4                        15.0                       18.0   \n",
              "\n",
              "  I agree to pay the amount through cheque  \\\n",
              "0                                       No   \n",
              "1                                       No   \n",
              "2                                       No   \n",
              "3                                       No   \n",
              "4                                       No   \n",
              "\n",
              "  A free copy of Mastering The Interview Last Notable Activity  \n",
              "0                                     No              Modified  \n",
              "1                                     No          Email Opened  \n",
              "2                                    Yes          Email Opened  \n",
              "3                                     No              Modified  \n",
              "4                                     No              Modified  \n",
              "\n",
              "[5 rows x 37 columns]"
            ],
            "text/html": [
              "\n",
              "  <div id=\"df-c5f65c57-edea-4117-8186-3a94b84221c4\">\n",
              "    <div class=\"colab-df-container\">\n",
              "      <div>\n",
              "<style scoped>\n",
              "    .dataframe tbody tr th:only-of-type {\n",
              "        vertical-align: middle;\n",
              "    }\n",
              "\n",
              "    .dataframe tbody tr th {\n",
              "        vertical-align: top;\n",
              "    }\n",
              "\n",
              "    .dataframe thead th {\n",
              "        text-align: right;\n",
              "    }\n",
              "</style>\n",
              "<table border=\"1\" class=\"dataframe\">\n",
              "  <thead>\n",
              "    <tr style=\"text-align: right;\">\n",
              "      <th></th>\n",
              "      <th>Prospect ID</th>\n",
              "      <th>Lead Number</th>\n",
              "      <th>Lead Origin</th>\n",
              "      <th>Lead Source</th>\n",
              "      <th>Do Not Email</th>\n",
              "      <th>Do Not Call</th>\n",
              "      <th>Converted</th>\n",
              "      <th>TotalVisits</th>\n",
              "      <th>Total Time Spent on Website</th>\n",
              "      <th>Page Views Per Visit</th>\n",
              "      <th>...</th>\n",
              "      <th>Get updates on DM Content</th>\n",
              "      <th>Lead Profile</th>\n",
              "      <th>City</th>\n",
              "      <th>Asymmetrique Activity Index</th>\n",
              "      <th>Asymmetrique Profile Index</th>\n",
              "      <th>Asymmetrique Activity Score</th>\n",
              "      <th>Asymmetrique Profile Score</th>\n",
              "      <th>I agree to pay the amount through cheque</th>\n",
              "      <th>A free copy of Mastering The Interview</th>\n",
              "      <th>Last Notable Activity</th>\n",
              "    </tr>\n",
              "  </thead>\n",
              "  <tbody>\n",
              "    <tr>\n",
              "      <th>0</th>\n",
              "      <td>7927b2df-8bba-4d29-b9a2-b6e0beafe620</td>\n",
              "      <td>660737</td>\n",
              "      <td>API</td>\n",
              "      <td>Olark Chat</td>\n",
              "      <td>No</td>\n",
              "      <td>No</td>\n",
              "      <td>0</td>\n",
              "      <td>0.0</td>\n",
              "      <td>0</td>\n",
              "      <td>0.0</td>\n",
              "      <td>...</td>\n",
              "      <td>No</td>\n",
              "      <td>Select</td>\n",
              "      <td>Select</td>\n",
              "      <td>02.Medium</td>\n",
              "      <td>02.Medium</td>\n",
              "      <td>15.0</td>\n",
              "      <td>15.0</td>\n",
              "      <td>No</td>\n",
              "      <td>No</td>\n",
              "      <td>Modified</td>\n",
              "    </tr>\n",
              "    <tr>\n",
              "      <th>1</th>\n",
              "      <td>2a272436-5132-4136-86fa-dcc88c88f482</td>\n",
              "      <td>660728</td>\n",
              "      <td>API</td>\n",
              "      <td>Organic Search</td>\n",
              "      <td>No</td>\n",
              "      <td>No</td>\n",
              "      <td>0</td>\n",
              "      <td>5.0</td>\n",
              "      <td>674</td>\n",
              "      <td>2.5</td>\n",
              "      <td>...</td>\n",
              "      <td>No</td>\n",
              "      <td>Select</td>\n",
              "      <td>Select</td>\n",
              "      <td>02.Medium</td>\n",
              "      <td>02.Medium</td>\n",
              "      <td>15.0</td>\n",
              "      <td>15.0</td>\n",
              "      <td>No</td>\n",
              "      <td>No</td>\n",
              "      <td>Email Opened</td>\n",
              "    </tr>\n",
              "    <tr>\n",
              "      <th>2</th>\n",
              "      <td>8cc8c611-a219-4f35-ad23-fdfd2656bd8a</td>\n",
              "      <td>660727</td>\n",
              "      <td>Landing Page Submission</td>\n",
              "      <td>Direct Traffic</td>\n",
              "      <td>No</td>\n",
              "      <td>No</td>\n",
              "      <td>1</td>\n",
              "      <td>2.0</td>\n",
              "      <td>1532</td>\n",
              "      <td>2.0</td>\n",
              "      <td>...</td>\n",
              "      <td>No</td>\n",
              "      <td>Potential Lead</td>\n",
              "      <td>Mumbai</td>\n",
              "      <td>02.Medium</td>\n",
              "      <td>01.High</td>\n",
              "      <td>14.0</td>\n",
              "      <td>20.0</td>\n",
              "      <td>No</td>\n",
              "      <td>Yes</td>\n",
              "      <td>Email Opened</td>\n",
              "    </tr>\n",
              "    <tr>\n",
              "      <th>3</th>\n",
              "      <td>0cc2df48-7cf4-4e39-9de9-19797f9b38cc</td>\n",
              "      <td>660719</td>\n",
              "      <td>Landing Page Submission</td>\n",
              "      <td>Direct Traffic</td>\n",
              "      <td>No</td>\n",
              "      <td>No</td>\n",
              "      <td>0</td>\n",
              "      <td>1.0</td>\n",
              "      <td>305</td>\n",
              "      <td>1.0</td>\n",
              "      <td>...</td>\n",
              "      <td>No</td>\n",
              "      <td>Select</td>\n",
              "      <td>Mumbai</td>\n",
              "      <td>02.Medium</td>\n",
              "      <td>01.High</td>\n",
              "      <td>13.0</td>\n",
              "      <td>17.0</td>\n",
              "      <td>No</td>\n",
              "      <td>No</td>\n",
              "      <td>Modified</td>\n",
              "    </tr>\n",
              "    <tr>\n",
              "      <th>4</th>\n",
              "      <td>3256f628-e534-4826-9d63-4a8b88782852</td>\n",
              "      <td>660681</td>\n",
              "      <td>Landing Page Submission</td>\n",
              "      <td>Google</td>\n",
              "      <td>No</td>\n",
              "      <td>No</td>\n",
              "      <td>1</td>\n",
              "      <td>2.0</td>\n",
              "      <td>1428</td>\n",
              "      <td>1.0</td>\n",
              "      <td>...</td>\n",
              "      <td>No</td>\n",
              "      <td>Select</td>\n",
              "      <td>Mumbai</td>\n",
              "      <td>02.Medium</td>\n",
              "      <td>01.High</td>\n",
              "      <td>15.0</td>\n",
              "      <td>18.0</td>\n",
              "      <td>No</td>\n",
              "      <td>No</td>\n",
              "      <td>Modified</td>\n",
              "    </tr>\n",
              "  </tbody>\n",
              "</table>\n",
              "<p>5 rows × 37 columns</p>\n",
              "</div>\n",
              "      <button class=\"colab-df-convert\" onclick=\"convertToInteractive('df-c5f65c57-edea-4117-8186-3a94b84221c4')\"\n",
              "              title=\"Convert this dataframe to an interactive table.\"\n",
              "              style=\"display:none;\">\n",
              "        \n",
              "  <svg xmlns=\"http://www.w3.org/2000/svg\" height=\"24px\"viewBox=\"0 0 24 24\"\n",
              "       width=\"24px\">\n",
              "    <path d=\"M0 0h24v24H0V0z\" fill=\"none\"/>\n",
              "    <path d=\"M18.56 5.44l.94 2.06.94-2.06 2.06-.94-2.06-.94-.94-2.06-.94 2.06-2.06.94zm-11 1L8.5 8.5l.94-2.06 2.06-.94-2.06-.94L8.5 2.5l-.94 2.06-2.06.94zm10 10l.94 2.06.94-2.06 2.06-.94-2.06-.94-.94-2.06-.94 2.06-2.06.94z\"/><path d=\"M17.41 7.96l-1.37-1.37c-.4-.4-.92-.59-1.43-.59-.52 0-1.04.2-1.43.59L10.3 9.45l-7.72 7.72c-.78.78-.78 2.05 0 2.83L4 21.41c.39.39.9.59 1.41.59.51 0 1.02-.2 1.41-.59l7.78-7.78 2.81-2.81c.8-.78.8-2.07 0-2.86zM5.41 20L4 18.59l7.72-7.72 1.47 1.35L5.41 20z\"/>\n",
              "  </svg>\n",
              "      </button>\n",
              "      \n",
              "  <style>\n",
              "    .colab-df-container {\n",
              "      display:flex;\n",
              "      flex-wrap:wrap;\n",
              "      gap: 12px;\n",
              "    }\n",
              "\n",
              "    .colab-df-convert {\n",
              "      background-color: #E8F0FE;\n",
              "      border: none;\n",
              "      border-radius: 50%;\n",
              "      cursor: pointer;\n",
              "      display: none;\n",
              "      fill: #1967D2;\n",
              "      height: 32px;\n",
              "      padding: 0 0 0 0;\n",
              "      width: 32px;\n",
              "    }\n",
              "\n",
              "    .colab-df-convert:hover {\n",
              "      background-color: #E2EBFA;\n",
              "      box-shadow: 0px 1px 2px rgba(60, 64, 67, 0.3), 0px 1px 3px 1px rgba(60, 64, 67, 0.15);\n",
              "      fill: #174EA6;\n",
              "    }\n",
              "\n",
              "    [theme=dark] .colab-df-convert {\n",
              "      background-color: #3B4455;\n",
              "      fill: #D2E3FC;\n",
              "    }\n",
              "\n",
              "    [theme=dark] .colab-df-convert:hover {\n",
              "      background-color: #434B5C;\n",
              "      box-shadow: 0px 1px 3px 1px rgba(0, 0, 0, 0.15);\n",
              "      filter: drop-shadow(0px 1px 2px rgba(0, 0, 0, 0.3));\n",
              "      fill: #FFFFFF;\n",
              "    }\n",
              "  </style>\n",
              "\n",
              "      <script>\n",
              "        const buttonEl =\n",
              "          document.querySelector('#df-c5f65c57-edea-4117-8186-3a94b84221c4 button.colab-df-convert');\n",
              "        buttonEl.style.display =\n",
              "          google.colab.kernel.accessAllowed ? 'block' : 'none';\n",
              "\n",
              "        async function convertToInteractive(key) {\n",
              "          const element = document.querySelector('#df-c5f65c57-edea-4117-8186-3a94b84221c4');\n",
              "          const dataTable =\n",
              "            await google.colab.kernel.invokeFunction('convertToInteractive',\n",
              "                                                     [key], {});\n",
              "          if (!dataTable) return;\n",
              "\n",
              "          const docLinkHtml = 'Like what you see? Visit the ' +\n",
              "            '<a target=\"_blank\" href=https://colab.research.google.com/notebooks/data_table.ipynb>data table notebook</a>'\n",
              "            + ' to learn more about interactive tables.';\n",
              "          element.innerHTML = '';\n",
              "          dataTable['output_type'] = 'display_data';\n",
              "          await google.colab.output.renderOutput(dataTable, element);\n",
              "          const docLink = document.createElement('div');\n",
              "          docLink.innerHTML = docLinkHtml;\n",
              "          element.appendChild(docLink);\n",
              "        }\n",
              "      </script>\n",
              "    </div>\n",
              "  </div>\n",
              "  "
            ]
          },
          "metadata": {},
          "execution_count": 79
        }
      ]
    },
    {
      "cell_type": "markdown",
      "source": [
        "#Informacion del dataset"
      ],
      "metadata": {
        "id": "775udj13qwOx"
      }
    },
    {
      "cell_type": "code",
      "source": [
        "df_train.info()"
      ],
      "metadata": {
        "colab": {
          "base_uri": "https://localhost:8080/"
        },
        "id": "E7VPzttIqymL",
        "outputId": "a3b928f6-0173-4da2-e4ca-b716268f5f6c"
      },
      "execution_count": 80,
      "outputs": [
        {
          "output_type": "stream",
          "name": "stdout",
          "text": [
            "<class 'pandas.core.frame.DataFrame'>\n",
            "RangeIndex: 9240 entries, 0 to 9239\n",
            "Data columns (total 37 columns):\n",
            " #   Column                                         Non-Null Count  Dtype  \n",
            "---  ------                                         --------------  -----  \n",
            " 0   Prospect ID                                    9240 non-null   object \n",
            " 1   Lead Number                                    9240 non-null   int64  \n",
            " 2   Lead Origin                                    9240 non-null   object \n",
            " 3   Lead Source                                    9204 non-null   object \n",
            " 4   Do Not Email                                   9240 non-null   object \n",
            " 5   Do Not Call                                    9240 non-null   object \n",
            " 6   Converted                                      9240 non-null   int64  \n",
            " 7   TotalVisits                                    9103 non-null   float64\n",
            " 8   Total Time Spent on Website                    9240 non-null   int64  \n",
            " 9   Page Views Per Visit                           9103 non-null   float64\n",
            " 10  Last Activity                                  9137 non-null   object \n",
            " 11  Country                                        6779 non-null   object \n",
            " 12  Specialization                                 7802 non-null   object \n",
            " 13  How did you hear about X Education             7033 non-null   object \n",
            " 14  What is your current occupation                6550 non-null   object \n",
            " 15  What matters most to you in choosing a course  6531 non-null   object \n",
            " 16  Search                                         9240 non-null   object \n",
            " 17  Magazine                                       9240 non-null   object \n",
            " 18  Newspaper Article                              9240 non-null   object \n",
            " 19  X Education Forums                             9240 non-null   object \n",
            " 20  Newspaper                                      9240 non-null   object \n",
            " 21  Digital Advertisement                          9240 non-null   object \n",
            " 22  Through Recommendations                        9240 non-null   object \n",
            " 23  Receive More Updates About Our Courses         9240 non-null   object \n",
            " 24  Tags                                           5887 non-null   object \n",
            " 25  Lead Quality                                   4473 non-null   object \n",
            " 26  Update me on Supply Chain Content              9240 non-null   object \n",
            " 27  Get updates on DM Content                      9240 non-null   object \n",
            " 28  Lead Profile                                   6531 non-null   object \n",
            " 29  City                                           7820 non-null   object \n",
            " 30  Asymmetrique Activity Index                    5022 non-null   object \n",
            " 31  Asymmetrique Profile Index                     5022 non-null   object \n",
            " 32  Asymmetrique Activity Score                    5022 non-null   float64\n",
            " 33  Asymmetrique Profile Score                     5022 non-null   float64\n",
            " 34  I agree to pay the amount through cheque       9240 non-null   object \n",
            " 35  A free copy of Mastering The Interview         9240 non-null   object \n",
            " 36  Last Notable Activity                          9240 non-null   object \n",
            "dtypes: float64(4), int64(3), object(30)\n",
            "memory usage: 2.6+ MB\n"
          ]
        }
      ]
    },
    {
      "cell_type": "markdown",
      "source": [
        "#Explicación de las columnas del dataset"
      ],
      "metadata": {
        "id": "7alqNogHwI70"
      }
    },
    {
      "cell_type": "markdown",
      "source": [
        "0. Prospect ID ⇒ Identificador del posible cliente.\n",
        "1. Lead Number ⇒ Número asignado al posible cliente.\n",
        "2. Lead Origin ⇒ Origen del posible cliente, es decir, cómo se generó.\n",
        "3. Lead Source ⇒ Fuente desde donde proviene el posible cliente.\n",
        "4. Do Not Email ⇒ Indica si el posible cliente ha solicitado no recibir correos electrónicos.\n",
        "5. Do Not Call ⇒ Indica si el posible cliente ha solicitado no recibir llamadas telefónicas.\n",
        "6. Converted ⇒ Indica si el posible cliente se ha convertido en un cliente real (1) o no (0).\n",
        "7. TotalVisits ⇒ Número total de visitas del posible cliente al sitio web.\n",
        "8. Total Time Spent on Website ⇒ Tiempo total que el posible cliente ha pasado en el sitio web.\n",
        "9. Page Views Per Visit ⇒ Promedio de páginas vistas por visita del posible cliente.\n",
        "10. Last Activity ⇒ Última actividad registrada del posible cliente.\n",
        "11. Country ⇒ País del posible cliente.\n",
        "12. Specialization ⇒ Especialización del posible cliente en caso de tener alguna.\n",
        "13. How did you hear about X Education ⇒ Indica cómo el posible cliente se enteró de X Education.\n",
        "14. What is your current occupation ⇒ Ocupación actual del posible cliente.\n",
        "15. What matters most to you in choosing a course ⇒ Aspecto más importante para el posible cliente al elegir un curso.\n",
        "16. Search ⇒ Indica si el posible cliente ha realizado una búsqueda relacionada.\n",
        "17. Magazine ⇒ Indica si el posible cliente se ha enterado de X Education a través de una revista.\n",
        "18. Newspaper Article ⇒ Indica si el posible cliente se ha enterado de X Education a través de un artículo de periódico.\n",
        "19. X Education Forums ⇒ Indica si el posible cliente se ha enterado de X Education a través de foros.\n",
        "20. Newspaper ⇒ Indica si el posible cliente se ha enterado de X Education a través de periódicos.\n",
        "21. Digital Advertisement ⇒ Indica si el posible cliente se ha enterado de X Education a través de publicidad digital.\n",
        "22. Through Recommendations ⇒ Indica si el posible cliente se ha enterado de X Education a través de recomendaciones.\n",
        "23. Receive More Updates About Our Courses ⇒ Indica si el posible cliente desea recibir más actualizaciones sobre los cursos.\n",
        "24. Tags ⇒ Etiquetas o palabras clave asociadas al posible cliente.\n",
        "25. Lead Quality ⇒ Calidad del posible cliente.\n",
        "26. Update me on Supply Chain Content ⇒ Indica si el posible cliente desea recibir actualizaciones sobre contenido de cadena de suministro.\n",
        "27. Get updates on DM Content ⇒ Indica si el posible cliente desea recibir actualizaciones sobre contenido de marketing digital.\n",
        "28. Lead Profile ⇒ Perfil del posible cliente.\n",
        "29. City ⇒ Ciudad del posible cliente.\n",
        "30. Asymmetrique Activity Index ⇒ Índice de actividad asimétrica.\n",
        "31. Asymmetrique Profile Index ⇒ Índice de perfil asimétrico.\n",
        "32. Asymmetrique Activity Score ⇒ Puntuación de actividad asimétrica.\n",
        "33. Asymmetrique Profile Score ⇒ Puntuación de perfil asimétrico.\n",
        "34. I agree to pay the amount through cheque ⇒ Indica si el posible cliente acepta pagar mediante cheque.\n",
        "35. A free copy of Mastering The Interview ⇒ Indica si el posible cliente desea recibir una copia gratuita de \"Mastering The Interview\".\n",
        "36. Last Notable Activity ⇒ Última actividad destacada registrada del posible \n",
        "cliente.\n"
      ],
      "metadata": {
        "id": "otKvWq6dwaU8"
      }
    },
    {
      "cell_type": "markdown",
      "source": [
        "#Analisis y preprocesamiento del dataset"
      ],
      "metadata": {
        "id": "wTWsNbE9MmIJ"
      }
    },
    {
      "cell_type": "markdown",
      "source": [
        "##Balanceamiento de datos"
      ],
      "metadata": {
        "id": "SgVD4Jh4MqsB"
      }
    },
    {
      "cell_type": "code",
      "source": [
        "ejes = sns.countplot(x=\"Converted\", data = df_train)\n",
        "ejes.set_xticks([0,1])\n",
        "plt.show"
      ],
      "metadata": {
        "colab": {
          "base_uri": "https://localhost:8080/",
          "height": 0
        },
        "id": "Yj39Io3bMrC3",
        "outputId": "b2013b15-540f-409f-881e-4d22af047fb4"
      },
      "execution_count": 81,
      "outputs": [
        {
          "output_type": "execute_result",
          "data": {
            "text/plain": [
              "<function matplotlib.pyplot.show(close=None, block=None)>"
            ]
          },
          "metadata": {},
          "execution_count": 81
        },
        {
          "output_type": "display_data",
          "data": {
            "text/plain": [
              "<Figure size 640x480 with 1 Axes>"
            ],
            "image/png": "[encoded data removed]"
          },
          "metadata": {}
        }
      ]
    },
    {
      "cell_type": "code",
      "source": [
        "#Balace de datos al minimo, eliminando ocurrencias.\n",
        "\n",
        "#Dividimos los dos casos\n",
        "df_no_converted = df_train[df_train.Converted==0] #El potencial cliente NO ha pasa a ser cliente real\n",
        "df_converted = df_train[df_train.Converted==1] #El potencial cliente SI a ser REAL\n",
        "\n",
        "\"\"\"Se genera un conjunto de datos llamado df_nc_reducido utlizando resample de sklearn.\n",
        "   1- df_no_converted es el conjunto de datos que se desea reducir\n",
        "   2- n_samples el numero de muestras aleatorias que se desean obtener, es decir, dentro de los x valores de df_no_converted\n",
        "   se tomaran tantas muestras como valores tiene, en este caso, df_converted. Asi ambos tendran los mismos valores\n",
        "   3- Replace indica si se deben permitir o no muestras repetidas en el conujnto de datos, True indica que si\n",
        "   4- Random state = 42 indica el numero de resultados que generará cada vez que se ejecute, para asegurar la aleatoriedad. \n",
        "   Al valor se le llama semilla y se puede usar cualquier numero, pero cada numero dará unos resultados distintos.\n",
        "    \"\"\"\n",
        "df_nc_reducido = resample(df_no_converted, \n",
        "    n_samples=len(df_converted),replace=True, random_state=42)\n",
        "\n",
        "\n",
        "#Se combina la clase minoritaria con la nueva clase mayoritaria la cual hemos reducido\n",
        "df_train = pd.concat([df_converted, df_nc_reducido])\n",
        "\n",
        "#Comprobacion del resultado\n",
        "print(f\"REAL: {len(df_train[df_train.Converted==1])}\")\n",
        "print(f\"NO REAL: {len(df_train[df_train.Converted==0])}\")"
      ],
      "metadata": {
        "colab": {
          "base_uri": "https://localhost:8080/"
        },
        "id": "iHihJqRANUOS",
        "outputId": "0ad9062f-ebed-402f-96b7-de20dae70fcf"
      },
      "execution_count": 82,
      "outputs": [
        {
          "output_type": "stream",
          "name": "stdout",
          "text": [
            "REAL: 3561\n",
            "NO REAL: 3561\n"
          ]
        }
      ]
    },
    {
      "cell_type": "markdown",
      "source": [
        "##Matriz de correlación"
      ],
      "metadata": {
        "id": "ZP9L1pgOMrY6"
      }
    },
    {
      "cell_type": "code",
      "source": [
        "matriz_correlacion = df_train.corr()\n",
        "print(matriz_correlacion)"
      ],
      "metadata": {
        "colab": {
          "base_uri": "https://localhost:8080/"
        },
        "id": "IO5i8nHZMrqz",
        "outputId": "ecf5d880-012e-42d9-90df-27e76a8f904b"
      },
      "execution_count": 83,
      "outputs": [
        {
          "output_type": "stream",
          "name": "stdout",
          "text": [
            "                             Lead Number  Converted  TotalVisits  \\\n",
            "Lead Number                     1.000000   0.032599     0.016487   \n",
            "Converted                       0.032599   1.000000     0.021138   \n",
            "TotalVisits                     0.016487   0.021138     1.000000   \n",
            "Total Time Spent on Website     0.021959   0.360618     0.215318   \n",
            "Page Views Per Visit            0.057863  -0.005870     0.487952   \n",
            "Asymmetrique Activity Score    -0.075779   0.175594    -0.047262   \n",
            "Asymmetrique Profile Score     -0.105033   0.215196     0.116482   \n",
            "\n",
            "                             Total Time Spent on Website  \\\n",
            "Lead Number                                     0.021959   \n",
            "Converted                                       0.360618   \n",
            "TotalVisits                                     0.215318   \n",
            "Total Time Spent on Website                     1.000000   \n",
            "Page Views Per Visit                            0.347770   \n",
            "Asymmetrique Activity Score                    -0.056176   \n",
            "Asymmetrique Profile Score                      0.173328   \n",
            "\n",
            "                             Page Views Per Visit  \\\n",
            "Lead Number                              0.057863   \n",
            "Converted                               -0.005870   \n",
            "TotalVisits                              0.487952   \n",
            "Total Time Spent on Website              0.347770   \n",
            "Page Views Per Visit                     1.000000   \n",
            "Asymmetrique Activity Score             -0.158953   \n",
            "Asymmetrique Profile Score               0.156308   \n",
            "\n",
            "                             Asymmetrique Activity Score  \\\n",
            "Lead Number                                    -0.075779   \n",
            "Converted                                       0.175594   \n",
            "TotalVisits                                    -0.047262   \n",
            "Total Time Spent on Website                    -0.056176   \n",
            "Page Views Per Visit                           -0.158953   \n",
            "Asymmetrique Activity Score                     1.000000   \n",
            "Asymmetrique Profile Score                     -0.132452   \n",
            "\n",
            "                             Asymmetrique Profile Score  \n",
            "Lead Number                                   -0.105033  \n",
            "Converted                                      0.215196  \n",
            "TotalVisits                                    0.116482  \n",
            "Total Time Spent on Website                    0.173328  \n",
            "Page Views Per Visit                           0.156308  \n",
            "Asymmetrique Activity Score                   -0.132452  \n",
            "Asymmetrique Profile Score                     1.000000  \n"
          ]
        },
        {
          "output_type": "stream",
          "name": "stderr",
          "text": [
            "<ipython-input-83-be50af720433>:1: FutureWarning: The default value of numeric_only in DataFrame.corr is deprecated. In a future version, it will default to False. Select only valid columns or specify the value of numeric_only to silence this warning.\n",
            "  matriz_correlacion = df_train.corr()\n"
          ]
        }
      ]
    },
    {
      "cell_type": "code",
      "source": [
        "corr_variables = [] \n",
        "col_corr = []\n",
        "\n",
        "for i, col_i in enumerate(matriz_correlacion.columns):\n",
        "    col_corr.append(col_i)\n",
        "\n",
        "    corr_found = False # Agregamos una variable booleana para controlar si se encontró alguna correlación para la columna actual\n",
        "\n",
        "    for j, col_j in enumerate(matriz_correlacion.columns):\n",
        "        if i != j and col_j in matriz_correlacion.columns:\n",
        "            corr = matriz_correlacion.loc[col_i, col_j]\n",
        "\n",
        "            if abs(corr) > 0.3:\n",
        "                corr_found = True # Actualizamos la variable booleana para indicar que se encontró una correlación para la columna actual\n",
        "                corr_variables.append((col_i, col_j, corr))\n",
        "\n",
        "    if not corr_found:\n",
        "        col_corr.remove(col_i) # Si no se encontró ninguna correlación para la columna actual, la eliminamos de la lista \"col_corr\"\n",
        "\n",
        "print(corr_variables)\n",
        "print(col_corr)\n",
        "\n"
      ],
      "metadata": {
        "colab": {
          "base_uri": "https://localhost:8080/"
        },
        "id": "H-8JNQshOJ66",
        "outputId": "2b5e52f2-ebc0-4197-cd49-7f81a6e76cc6"
      },
      "execution_count": 90,
      "outputs": [
        {
          "output_type": "stream",
          "name": "stdout",
          "text": [
            "[('Converted', 'Total Time Spent on Website', 0.36061789266223215), ('TotalVisits', 'Page Views Per Visit', 0.48795195218855764), ('Total Time Spent on Website', 'Converted', 0.36061789266223215), ('Total Time Spent on Website', 'Page Views Per Visit', 0.3477703387611359), ('Page Views Per Visit', 'TotalVisits', 0.48795195218855764), ('Page Views Per Visit', 'Total Time Spent on Website', 0.3477703387611359)]\n",
            "['Converted', 'TotalVisits', 'Total Time Spent on Website', 'Page Views Per Visit']\n"
          ]
        }
      ]
    },
    {
      "cell_type": "code",
      "source": [
        "innecesario = list(set(df_train.columns).difference(col_corr))\n",
        "print(innecesario)\n",
        "for i in range (len(innecesario)):\n",
        "  df_train = df_train.drop((innecesario[i]), axis = 1)\n",
        "df_train.info()"
      ],
      "metadata": {
        "colab": {
          "base_uri": "https://localhost:8080/"
        },
        "id": "aniUHbMMOOHC",
        "outputId": "059e128d-9349-48f0-ea6d-8aac688910b9"
      },
      "execution_count": 91,
      "outputs": [
        {
          "output_type": "stream",
          "name": "stdout",
          "text": [
            "['I agree to pay the amount through cheque', 'Prospect ID', 'City', 'Do Not Call', 'Do Not Email', 'Last Activity', 'Search', 'Newspaper', 'A free copy of Mastering The Interview', 'Lead Profile', 'Lead Origin', 'X Education Forums', 'Asymmetrique Activity Index', 'What is your current occupation', 'Update me on Supply Chain Content', 'Asymmetrique Profile Score', 'Country', 'Through Recommendations', 'Last Notable Activity', 'Specialization', 'Get updates on DM Content', 'Lead Number', 'Asymmetrique Activity Score', 'Newspaper Article', 'Receive More Updates About Our Courses', 'How did you hear about X Education', 'What matters most to you in choosing a course', 'Lead Quality', 'Magazine', 'Asymmetrique Profile Index', 'Lead Source', 'Tags', 'Digital Advertisement']\n",
            "<class 'pandas.core.frame.DataFrame'>\n",
            "Int64Index: 7122 entries, 2 to 6691\n",
            "Data columns (total 4 columns):\n",
            " #   Column                       Non-Null Count  Dtype  \n",
            "---  ------                       --------------  -----  \n",
            " 0   Converted                    7122 non-null   int64  \n",
            " 1   TotalVisits                  7003 non-null   float64\n",
            " 2   Total Time Spent on Website  7122 non-null   int64  \n",
            " 3   Page Views Per Visit         7003 non-null   float64\n",
            "dtypes: float64(2), int64(2)\n",
            "memory usage: 278.2 KB\n"
          ]
        }
      ]
    },
    {
      "cell_type": "markdown",
      "source": [
        "##Busqueda y sustitución de valores nulos"
      ],
      "metadata": {
        "id": "yW49eBq6MsDl"
      }
    },
    {
      "cell_type": "code",
      "source": [
        "columnas_nan_porcentaje(df_train)"
      ],
      "metadata": {
        "colab": {
          "base_uri": "https://localhost:8080/"
        },
        "id": "iNb_boSTMsZn",
        "outputId": "e3e1b8b5-4adc-4550-d62c-fe6090a7bc79"
      },
      "execution_count": 92,
      "outputs": [
        {
          "output_type": "stream",
          "name": "stdout",
          "text": [
            "TotalVisits             1.670879\n",
            "Page Views Per Visit    1.670879\n",
            "dtype: float64\n"
          ]
        }
      ]
    },
    {
      "cell_type": "code",
      "source": [
        "# Crea una instancia del modelo KNNImputer\n",
        "imputer = KNNImputer(n_neighbors=2)\n",
        "\n",
        "# Ajusta y transforma el DataFrame\n",
        "df_imputed = imputer.fit_transform(df_train)\n",
        "\n",
        "# Convierte el resultado en un DataFrame de Pandas\n",
        "df_train = pd.DataFrame(df_imputed, columns=df_train.columns)"
      ],
      "metadata": {
        "id": "v1nBtNSPSs_Q"
      },
      "execution_count": 93,
      "outputs": []
    },
    {
      "cell_type": "code",
      "source": [
        "columnas_nan_porcentaje(df_train)"
      ],
      "metadata": {
        "colab": {
          "base_uri": "https://localhost:8080/"
        },
        "id": "t96C1VZYSwol",
        "outputId": "ebe7ecd7-bfef-4fd0-f597-dd08b9c81500"
      },
      "execution_count": 94,
      "outputs": [
        {
          "output_type": "stream",
          "name": "stdout",
          "text": [
            "Series([], dtype: float64)\n"
          ]
        }
      ]
    },
    {
      "cell_type": "markdown",
      "source": [
        "#Division y normalización del dataset"
      ],
      "metadata": {
        "id": "IZ0GvXX9TBub"
      }
    },
    {
      "cell_type": "code",
      "source": [
        "categorical = list(df_train.dtypes[df_train.dtypes == 'object'].index)\n",
        "numerical = list(df_train.dtypes[df_train.dtypes != 'object'].index)\n",
        "lista_entradas = list(df_train.dtypes.index)\n",
        "print(\"Variables categoricas\", categorical)\n",
        "print(\"Variables NO categoricas\", numerical)"
      ],
      "metadata": {
        "colab": {
          "base_uri": "https://localhost:8080/"
        },
        "id": "jSE7t_8KS83V",
        "outputId": "8198ef55-a9fc-4a7f-fdfc-f2342c250881"
      },
      "execution_count": 95,
      "outputs": [
        {
          "output_type": "stream",
          "name": "stdout",
          "text": [
            "Variables categoricas []\n",
            "Variables NO categoricas ['Converted', 'TotalVisits', 'Total Time Spent on Website', 'Page Views Per Visit']\n"
          ]
        }
      ]
    },
    {
      "cell_type": "markdown",
      "source": [
        "Al quedarnos solo con las columnas con mayor correlación, podemos observar que no hará falta realizar el onehot encoding."
      ],
      "metadata": {
        "id": "ZiS0qV0DTJRS"
      }
    },
    {
      "cell_type": "markdown",
      "source": [
        "##Division del dataset"
      ],
      "metadata": {
        "id": "opTJkxSydp2m"
      }
    },
    {
      "cell_type": "code",
      "source": [
        "y = df_train['Converted']\n",
        "X = df_train.drop('Converted', axis=1)\n",
        "X_train, X_test, y_train, y_test = train_test_split(X, y, train_size=0.8, shuffle=True, random_state=1, stratify= df_train[\"Converted\"])"
      ],
      "metadata": {
        "id": "XRvPWYpndzTC"
      },
      "execution_count": 96,
      "outputs": []
    },
    {
      "cell_type": "markdown",
      "source": [
        "##Normalización del dataset"
      ],
      "metadata": {
        "id": "THu8C5OAd-kc"
      }
    },
    {
      "cell_type": "code",
      "source": [
        "scaler = MinMaxScaler()\n",
        "scaler.fit(X_train)\n",
        "fit_norm = scaler.fit(X_train)\n",
        "X_train = pd.DataFrame(scaler.transform(X_train), columns=X_train.columns)\n",
        "X_test = pd.DataFrame(scaler.transform(X_test), columns=X_test.columns)\n",
        "\n",
        "\n",
        "display(X_train.sort_index())\n",
        "display(X_test.sort_index())"
      ],
      "metadata": {
        "colab": {
          "base_uri": "https://localhost:8080/",
          "height": 830
        },
        "id": "fLGXgsESeB1n",
        "outputId": "65a56cd6-314f-428f-8955-5ce9f858e572"
      },
      "execution_count": 97,
      "outputs": [
        {
          "output_type": "display_data",
          "data": {
            "text/plain": [
              "      TotalVisits  Total Time Spent on Website  Page Views Per Visit\n",
              "0        0.060870                     0.139814              0.145833\n",
              "1        0.043478                     0.454505              0.208333\n",
              "2        0.000000                     0.000000              0.000000\n",
              "3        0.000000                     0.000000              0.000000\n",
              "4        0.000000                     0.000000              0.000000\n",
              "...           ...                          ...                   ...\n",
              "5692     0.034783                     0.152685              0.166667\n",
              "5693     0.034783                     0.001332              0.166667\n",
              "5694     0.078261                     0.098979              0.375000\n",
              "5695     0.000000                     0.000000              0.000000\n",
              "5696     0.000000                     0.000000              0.000000\n",
              "\n",
              "[5697 rows x 3 columns]"
            ],
            "text/html": [
              "\n",
              "  <div id=\"df-6abc5cd9-b8bc-4a51-9513-dc036e29bd23\">\n",
              "    <div class=\"colab-df-container\">\n",
              "      <div>\n",
              "<style scoped>\n",
              "    .dataframe tbody tr th:only-of-type {\n",
              "        vertical-align: middle;\n",
              "    }\n",
              "\n",
              "    .dataframe tbody tr th {\n",
              "        vertical-align: top;\n",
              "    }\n",
              "\n",
              "    .dataframe thead th {\n",
              "        text-align: right;\n",
              "    }\n",
              "</style>\n",
              "<table border=\"1\" class=\"dataframe\">\n",
              "  <thead>\n",
              "    <tr style=\"text-align: right;\">\n",
              "      <th></th>\n",
              "      <th>TotalVisits</th>\n",
              "      <th>Total Time Spent on Website</th>\n",
              "      <th>Page Views Per Visit</th>\n",
              "    </tr>\n",
              "  </thead>\n",
              "  <tbody>\n",
              "    <tr>\n",
              "      <th>0</th>\n",
              "      <td>0.060870</td>\n",
              "      <td>0.139814</td>\n",
              "      <td>0.145833</td>\n",
              "    </tr>\n",
              "    <tr>\n",
              "      <th>1</th>\n",
              "      <td>0.043478</td>\n",
              "      <td>0.454505</td>\n",
              "      <td>0.208333</td>\n",
              "    </tr>\n",
              "    <tr>\n",
              "      <th>2</th>\n",
              "      <td>0.000000</td>\n",
              "      <td>0.000000</td>\n",
              "      <td>0.000000</td>\n",
              "    </tr>\n",
              "    <tr>\n",
              "      <th>3</th>\n",
              "      <td>0.000000</td>\n",
              "      <td>0.000000</td>\n",
              "      <td>0.000000</td>\n",
              "    </tr>\n",
              "    <tr>\n",
              "      <th>4</th>\n",
              "      <td>0.000000</td>\n",
              "      <td>0.000000</td>\n",
              "      <td>0.000000</td>\n",
              "    </tr>\n",
              "    <tr>\n",
              "      <th>...</th>\n",
              "      <td>...</td>\n",
              "      <td>...</td>\n",
              "      <td>...</td>\n",
              "    </tr>\n",
              "    <tr>\n",
              "      <th>5692</th>\n",
              "      <td>0.034783</td>\n",
              "      <td>0.152685</td>\n",
              "      <td>0.166667</td>\n",
              "    </tr>\n",
              "    <tr>\n",
              "      <th>5693</th>\n",
              "      <td>0.034783</td>\n",
              "      <td>0.001332</td>\n",
              "      <td>0.166667</td>\n",
              "    </tr>\n",
              "    <tr>\n",
              "      <th>5694</th>\n",
              "      <td>0.078261</td>\n",
              "      <td>0.098979</td>\n",
              "      <td>0.375000</td>\n",
              "    </tr>\n",
              "    <tr>\n",
              "      <th>5695</th>\n",
              "      <td>0.000000</td>\n",
              "      <td>0.000000</td>\n",
              "      <td>0.000000</td>\n",
              "    </tr>\n",
              "    <tr>\n",
              "      <th>5696</th>\n",
              "      <td>0.000000</td>\n",
              "      <td>0.000000</td>\n",
              "      <td>0.000000</td>\n",
              "    </tr>\n",
              "  </tbody>\n",
              "</table>\n",
              "<p>5697 rows × 3 columns</p>\n",
              "</div>\n",
              "      <button class=\"colab-df-convert\" onclick=\"convertToInteractive('df-6abc5cd9-b8bc-4a51-9513-dc036e29bd23')\"\n",
              "              title=\"Convert this dataframe to an interactive table.\"\n",
              "              style=\"display:none;\">\n",
              "        \n",
              "  <svg xmlns=\"http://www.w3.org/2000/svg\" height=\"24px\"viewBox=\"0 0 24 24\"\n",
              "       width=\"24px\">\n",
              "    <path d=\"M0 0h24v24H0V0z\" fill=\"none\"/>\n",
              "    <path d=\"M18.56 5.44l.94 2.06.94-2.06 2.06-.94-2.06-.94-.94-2.06-.94 2.06-2.06.94zm-11 1L8.5 8.5l.94-2.06 2.06-.94-2.06-.94L8.5 2.5l-.94 2.06-2.06.94zm10 10l.94 2.06.94-2.06 2.06-.94-2.06-.94-.94-2.06-.94 2.06-2.06.94z\"/><path d=\"M17.41 7.96l-1.37-1.37c-.4-.4-.92-.59-1.43-.59-.52 0-1.04.2-1.43.59L10.3 9.45l-7.72 7.72c-.78.78-.78 2.05 0 2.83L4 21.41c.39.39.9.59 1.41.59.51 0 1.02-.2 1.41-.59l7.78-7.78 2.81-2.81c.8-.78.8-2.07 0-2.86zM5.41 20L4 18.59l7.72-7.72 1.47 1.35L5.41 20z\"/>\n",
              "  </svg>\n",
              "      </button>\n",
              "      \n",
              "  <style>\n",
              "    .colab-df-container {\n",
              "      display:flex;\n",
              "      flex-wrap:wrap;\n",
              "      gap: 12px;\n",
              "    }\n",
              "\n",
              "    .colab-df-convert {\n",
              "      background-color: #E8F0FE;\n",
              "      border: none;\n",
              "      border-radius: 50%;\n",
              "      cursor: pointer;\n",
              "      display: none;\n",
              "      fill: #1967D2;\n",
              "      height: 32px;\n",
              "      padding: 0 0 0 0;\n",
              "      width: 32px;\n",
              "    }\n",
              "\n",
              "    .colab-df-convert:hover {\n",
              "      background-color: #E2EBFA;\n",
              "      box-shadow: 0px 1px 2px rgba(60, 64, 67, 0.3), 0px 1px 3px 1px rgba(60, 64, 67, 0.15);\n",
              "      fill: #174EA6;\n",
              "    }\n",
              "\n",
              "    [theme=dark] .colab-df-convert {\n",
              "      background-color: #3B4455;\n",
              "      fill: #D2E3FC;\n",
              "    }\n",
              "\n",
              "    [theme=dark] .colab-df-convert:hover {\n",
              "      background-color: #434B5C;\n",
              "      box-shadow: 0px 1px 3px 1px rgba(0, 0, 0, 0.15);\n",
              "      filter: drop-shadow(0px 1px 2px rgba(0, 0, 0, 0.3));\n",
              "      fill: #FFFFFF;\n",
              "    }\n",
              "  </style>\n",
              "\n",
              "      <script>\n",
              "        const buttonEl =\n",
              "          document.querySelector('#df-6abc5cd9-b8bc-4a51-9513-dc036e29bd23 button.colab-df-convert');\n",
              "        buttonEl.style.display =\n",
              "          google.colab.kernel.accessAllowed ? 'block' : 'none';\n",
              "\n",
              "        async function convertToInteractive(key) {\n",
              "          const element = document.querySelector('#df-6abc5cd9-b8bc-4a51-9513-dc036e29bd23');\n",
              "          const dataTable =\n",
              "            await google.colab.kernel.invokeFunction('convertToInteractive',\n",
              "                                                     [key], {});\n",
              "          if (!dataTable) return;\n",
              "\n",
              "          const docLinkHtml = 'Like what you see? Visit the ' +\n",
              "            '<a target=\"_blank\" href=https://colab.research.google.com/notebooks/data_table.ipynb>data table notebook</a>'\n",
              "            + ' to learn more about interactive tables.';\n",
              "          element.innerHTML = '';\n",
              "          dataTable['output_type'] = 'display_data';\n",
              "          await google.colab.output.renderOutput(dataTable, element);\n",
              "          const docLink = document.createElement('div');\n",
              "          docLink.innerHTML = docLinkHtml;\n",
              "          element.appendChild(docLink);\n",
              "        }\n",
              "      </script>\n",
              "    </div>\n",
              "  </div>\n",
              "  "
            ]
          },
          "metadata": {}
        },
        {
          "output_type": "display_data",
          "data": {
            "text/plain": [
              "      TotalVisits  Total Time Spent on Website  Page Views Per Visit\n",
              "0        0.086957                     0.037727              0.208333\n",
              "1        0.017391                     0.513538              0.083333\n",
              "2        0.000000                     0.000000              0.000000\n",
              "3        0.060870                     0.549046              0.291667\n",
              "4        0.000000                     0.000000              0.000000\n",
              "...           ...                          ...                   ...\n",
              "1420     0.069565                     0.082557              0.333333\n",
              "1421     0.026087                     0.660897              0.125000\n",
              "1422     0.026087                     0.466933              0.125000\n",
              "1423     0.000000                     0.000000              0.000000\n",
              "1424     0.026087                     0.559698              0.104167\n",
              "\n",
              "[1425 rows x 3 columns]"
            ],
            "text/html": [
              "\n",
              "  <div id=\"df-1f5be61a-6bfa-4646-adbd-c2cf1245a853\">\n",
              "    <div class=\"colab-df-container\">\n",
              "      <div>\n",
              "<style scoped>\n",
              "    .dataframe tbody tr th:only-of-type {\n",
              "        vertical-align: middle;\n",
              "    }\n",
              "\n",
              "    .dataframe tbody tr th {\n",
              "        vertical-align: top;\n",
              "    }\n",
              "\n",
              "    .dataframe thead th {\n",
              "        text-align: right;\n",
              "    }\n",
              "</style>\n",
              "<table border=\"1\" class=\"dataframe\">\n",
              "  <thead>\n",
              "    <tr style=\"text-align: right;\">\n",
              "      <th></th>\n",
              "      <th>TotalVisits</th>\n",
              "      <th>Total Time Spent on Website</th>\n",
              "      <th>Page Views Per Visit</th>\n",
              "    </tr>\n",
              "  </thead>\n",
              "  <tbody>\n",
              "    <tr>\n",
              "      <th>0</th>\n",
              "      <td>0.086957</td>\n",
              "      <td>0.037727</td>\n",
              "      <td>0.208333</td>\n",
              "    </tr>\n",
              "    <tr>\n",
              "      <th>1</th>\n",
              "      <td>0.017391</td>\n",
              "      <td>0.513538</td>\n",
              "      <td>0.083333</td>\n",
              "    </tr>\n",
              "    <tr>\n",
              "      <th>2</th>\n",
              "      <td>0.000000</td>\n",
              "      <td>0.000000</td>\n",
              "      <td>0.000000</td>\n",
              "    </tr>\n",
              "    <tr>\n",
              "      <th>3</th>\n",
              "      <td>0.060870</td>\n",
              "      <td>0.549046</td>\n",
              "      <td>0.291667</td>\n",
              "    </tr>\n",
              "    <tr>\n",
              "      <th>4</th>\n",
              "      <td>0.000000</td>\n",
              "      <td>0.000000</td>\n",
              "      <td>0.000000</td>\n",
              "    </tr>\n",
              "    <tr>\n",
              "      <th>...</th>\n",
              "      <td>...</td>\n",
              "      <td>...</td>\n",
              "      <td>...</td>\n",
              "    </tr>\n",
              "    <tr>\n",
              "      <th>1420</th>\n",
              "      <td>0.069565</td>\n",
              "      <td>0.082557</td>\n",
              "      <td>0.333333</td>\n",
              "    </tr>\n",
              "    <tr>\n",
              "      <th>1421</th>\n",
              "      <td>0.026087</td>\n",
              "      <td>0.660897</td>\n",
              "      <td>0.125000</td>\n",
              "    </tr>\n",
              "    <tr>\n",
              "      <th>1422</th>\n",
              "      <td>0.026087</td>\n",
              "      <td>0.466933</td>\n",
              "      <td>0.125000</td>\n",
              "    </tr>\n",
              "    <tr>\n",
              "      <th>1423</th>\n",
              "      <td>0.000000</td>\n",
              "      <td>0.000000</td>\n",
              "      <td>0.000000</td>\n",
              "    </tr>\n",
              "    <tr>\n",
              "      <th>1424</th>\n",
              "      <td>0.026087</td>\n",
              "      <td>0.559698</td>\n",
              "      <td>0.104167</td>\n",
              "    </tr>\n",
              "  </tbody>\n",
              "</table>\n",
              "<p>1425 rows × 3 columns</p>\n",
              "</div>\n",
              "      <button class=\"colab-df-convert\" onclick=\"convertToInteractive('df-1f5be61a-6bfa-4646-adbd-c2cf1245a853')\"\n",
              "              title=\"Convert this dataframe to an interactive table.\"\n",
              "              style=\"display:none;\">\n",
              "        \n",
              "  <svg xmlns=\"http://www.w3.org/2000/svg\" height=\"24px\"viewBox=\"0 0 24 24\"\n",
              "       width=\"24px\">\n",
              "    <path d=\"M0 0h24v24H0V0z\" fill=\"none\"/>\n",
              "    <path d=\"M18.56 5.44l.94 2.06.94-2.06 2.06-.94-2.06-.94-.94-2.06-.94 2.06-2.06.94zm-11 1L8.5 8.5l.94-2.06 2.06-.94-2.06-.94L8.5 2.5l-.94 2.06-2.06.94zm10 10l.94 2.06.94-2.06 2.06-.94-2.06-.94-.94-2.06-.94 2.06-2.06.94z\"/><path d=\"M17.41 7.96l-1.37-1.37c-.4-.4-.92-.59-1.43-.59-.52 0-1.04.2-1.43.59L10.3 9.45l-7.72 7.72c-.78.78-.78 2.05 0 2.83L4 21.41c.39.39.9.59 1.41.59.51 0 1.02-.2 1.41-.59l7.78-7.78 2.81-2.81c.8-.78.8-2.07 0-2.86zM5.41 20L4 18.59l7.72-7.72 1.47 1.35L5.41 20z\"/>\n",
              "  </svg>\n",
              "      </button>\n",
              "      \n",
              "  <style>\n",
              "    .colab-df-container {\n",
              "      display:flex;\n",
              "      flex-wrap:wrap;\n",
              "      gap: 12px;\n",
              "    }\n",
              "\n",
              "    .colab-df-convert {\n",
              "      background-color: #E8F0FE;\n",
              "      border: none;\n",
              "      border-radius: 50%;\n",
              "      cursor: pointer;\n",
              "      display: none;\n",
              "      fill: #1967D2;\n",
              "      height: 32px;\n",
              "      padding: 0 0 0 0;\n",
              "      width: 32px;\n",
              "    }\n",
              "\n",
              "    .colab-df-convert:hover {\n",
              "      background-color: #E2EBFA;\n",
              "      box-shadow: 0px 1px 2px rgba(60, 64, 67, 0.3), 0px 1px 3px 1px rgba(60, 64, 67, 0.15);\n",
              "      fill: #174EA6;\n",
              "    }\n",
              "\n",
              "    [theme=dark] .colab-df-convert {\n",
              "      background-color: #3B4455;\n",
              "      fill: #D2E3FC;\n",
              "    }\n",
              "\n",
              "    [theme=dark] .colab-df-convert:hover {\n",
              "      background-color: #434B5C;\n",
              "      box-shadow: 0px 1px 3px 1px rgba(0, 0, 0, 0.15);\n",
              "      filter: drop-shadow(0px 1px 2px rgba(0, 0, 0, 0.3));\n",
              "      fill: #FFFFFF;\n",
              "    }\n",
              "  </style>\n",
              "\n",
              "      <script>\n",
              "        const buttonEl =\n",
              "          document.querySelector('#df-1f5be61a-6bfa-4646-adbd-c2cf1245a853 button.colab-df-convert');\n",
              "        buttonEl.style.display =\n",
              "          google.colab.kernel.accessAllowed ? 'block' : 'none';\n",
              "\n",
              "        async function convertToInteractive(key) {\n",
              "          const element = document.querySelector('#df-1f5be61a-6bfa-4646-adbd-c2cf1245a853');\n",
              "          const dataTable =\n",
              "            await google.colab.kernel.invokeFunction('convertToInteractive',\n",
              "                                                     [key], {});\n",
              "          if (!dataTable) return;\n",
              "\n",
              "          const docLinkHtml = 'Like what you see? Visit the ' +\n",
              "            '<a target=\"_blank\" href=https://colab.research.google.com/notebooks/data_table.ipynb>data table notebook</a>'\n",
              "            + ' to learn more about interactive tables.';\n",
              "          element.innerHTML = '';\n",
              "          dataTable['output_type'] = 'display_data';\n",
              "          await google.colab.output.renderOutput(dataTable, element);\n",
              "          const docLink = document.createElement('div');\n",
              "          docLink.innerHTML = docLinkHtml;\n",
              "          element.appendChild(docLink);\n",
              "        }\n",
              "      </script>\n",
              "    </div>\n",
              "  </div>\n",
              "  "
            ]
          },
          "metadata": {}
        }
      ]
    },
    {
      "cell_type": "markdown",
      "source": [
        "#Modelos predictivos"
      ],
      "metadata": {
        "id": "a04ZiuCqeLii"
      }
    },
    {
      "cell_type": "markdown",
      "source": [
        "##Red neuronal"
      ],
      "metadata": {
        "id": "XAwTHjUjeQ5d"
      }
    },
    {
      "cell_type": "code",
      "source": [
        "print(f\"El numero de entradas a la red neuronal seran: {X_train.shape[1]}\")"
      ],
      "metadata": {
        "colab": {
          "base_uri": "https://localhost:8080/"
        },
        "id": "PTYoyxh8eStd",
        "outputId": "d5bdd7e1-adc1-4c8a-e934-2f6bd96cd4fa"
      },
      "execution_count": 98,
      "outputs": [
        {
          "output_type": "stream",
          "name": "stdout",
          "text": [
            "El numero de entradas a la red neuronal seran: 3\n"
          ]
        }
      ]
    },
    {
      "cell_type": "code",
      "source": [
        "model = Sequential()\n",
        "model.add(Dense(18, activation='relu', input_dim=X_train.shape[1]))\n",
        "model.add(Dense(9, activation='relu'))\n",
        "model.add(Dense(3, activation='relu'))\n",
        "model.add(Dense(1, activation='sigmoid'))\n",
        "\n",
        "\n",
        "model.compile(optimizer='adam', loss='binary_crossentropy', metrics=['accuracy'])\n",
        "#Entrenamiento de la red neuronal\n",
        "model.fit(X_train, y_train, epochs=100, batch_size=32, validation_split=0.1)\n",
        "\n",
        "# Evaluar el modelo en los datos de prueba\n",
        "test_loss, test_accuracy = model.evaluate(X_test, y_test)\n",
        "print(\"Exactitud en datos de prueba: \", test_accuracy)"
      ],
      "metadata": {
        "colab": {
          "base_uri": "https://localhost:8080/"
        },
        "id": "qpW_A1xUeWcq",
        "outputId": "bacefe98-d0a5-4338-e581-7457621977bb"
      },
      "execution_count": 110,
      "outputs": [
        {
          "output_type": "stream",
          "name": "stdout",
          "text": [
            "Epoch 1/100\n",
            "161/161 [==============================] - 3s 7ms/step - loss: 0.6701 - accuracy: 0.6165 - val_loss: 0.6393 - val_accuracy: 0.7018\n",
            "Epoch 2/100\n",
            "161/161 [==============================] - 1s 4ms/step - loss: 0.6161 - accuracy: 0.6979 - val_loss: 0.5925 - val_accuracy: 0.7105\n",
            "Epoch 3/100\n",
            "161/161 [==============================] - 0s 2ms/step - loss: 0.5939 - accuracy: 0.7006 - val_loss: 0.5894 - val_accuracy: 0.7088\n",
            "Epoch 4/100\n",
            "161/161 [==============================] - 0s 3ms/step - loss: 0.5885 - accuracy: 0.7000 - val_loss: 0.5803 - val_accuracy: 0.7140\n",
            "Epoch 5/100\n",
            "161/161 [==============================] - 0s 3ms/step - loss: 0.5843 - accuracy: 0.7020 - val_loss: 0.5759 - val_accuracy: 0.7140\n",
            "Epoch 6/100\n",
            "161/161 [==============================] - 0s 3ms/step - loss: 0.5807 - accuracy: 0.7006 - val_loss: 0.5693 - val_accuracy: 0.7140\n",
            "Epoch 7/100\n",
            "161/161 [==============================] - 0s 3ms/step - loss: 0.5782 - accuracy: 0.7020 - val_loss: 0.5647 - val_accuracy: 0.7123\n",
            "Epoch 8/100\n",
            "161/161 [==============================] - 0s 2ms/step - loss: 0.5760 - accuracy: 0.7016 - val_loss: 0.5641 - val_accuracy: 0.7439\n",
            "Epoch 9/100\n",
            "161/161 [==============================] - 0s 2ms/step - loss: 0.5746 - accuracy: 0.7033 - val_loss: 0.5623 - val_accuracy: 0.7140\n",
            "Epoch 10/100\n",
            "161/161 [==============================] - 0s 2ms/step - loss: 0.5729 - accuracy: 0.7053 - val_loss: 0.5589 - val_accuracy: 0.7140\n",
            "Epoch 11/100\n",
            "161/161 [==============================] - 0s 2ms/step - loss: 0.5726 - accuracy: 0.6996 - val_loss: 0.5572 - val_accuracy: 0.7439\n",
            "Epoch 12/100\n",
            "161/161 [==============================] - 0s 2ms/step - loss: 0.5715 - accuracy: 0.7131 - val_loss: 0.5574 - val_accuracy: 0.7140\n",
            "Epoch 13/100\n",
            "161/161 [==============================] - 0s 3ms/step - loss: 0.5706 - accuracy: 0.7119 - val_loss: 0.5590 - val_accuracy: 0.7158\n",
            "Epoch 14/100\n",
            "161/161 [==============================] - 1s 4ms/step - loss: 0.5707 - accuracy: 0.7086 - val_loss: 0.5564 - val_accuracy: 0.7456\n",
            "Epoch 15/100\n",
            "161/161 [==============================] - 1s 4ms/step - loss: 0.5698 - accuracy: 0.7098 - val_loss: 0.5581 - val_accuracy: 0.7421\n",
            "Epoch 16/100\n",
            "161/161 [==============================] - 1s 4ms/step - loss: 0.5694 - accuracy: 0.7117 - val_loss: 0.5543 - val_accuracy: 0.7123\n",
            "Epoch 17/100\n",
            "161/161 [==============================] - 1s 3ms/step - loss: 0.5692 - accuracy: 0.7146 - val_loss: 0.5534 - val_accuracy: 0.7421\n",
            "Epoch 18/100\n",
            "161/161 [==============================] - 1s 3ms/step - loss: 0.5688 - accuracy: 0.7125 - val_loss: 0.5535 - val_accuracy: 0.7123\n",
            "Epoch 19/100\n",
            "161/161 [==============================] - 1s 3ms/step - loss: 0.5683 - accuracy: 0.7107 - val_loss: 0.5596 - val_accuracy: 0.7351\n",
            "Epoch 20/100\n",
            "161/161 [==============================] - 0s 2ms/step - loss: 0.5689 - accuracy: 0.7139 - val_loss: 0.5540 - val_accuracy: 0.7123\n",
            "Epoch 21/100\n",
            "161/161 [==============================] - 0s 3ms/step - loss: 0.5685 - accuracy: 0.7146 - val_loss: 0.5584 - val_accuracy: 0.7404\n",
            "Epoch 22/100\n",
            "161/161 [==============================] - 0s 2ms/step - loss: 0.5683 - accuracy: 0.7137 - val_loss: 0.5526 - val_accuracy: 0.7421\n",
            "Epoch 23/100\n",
            "161/161 [==============================] - 0s 2ms/step - loss: 0.5677 - accuracy: 0.7178 - val_loss: 0.5568 - val_accuracy: 0.7140\n",
            "Epoch 24/100\n",
            "161/161 [==============================] - 0s 3ms/step - loss: 0.5668 - accuracy: 0.7104 - val_loss: 0.5664 - val_accuracy: 0.7000\n",
            "Epoch 25/100\n",
            "161/161 [==============================] - 0s 2ms/step - loss: 0.5673 - accuracy: 0.7170 - val_loss: 0.5516 - val_accuracy: 0.7386\n",
            "Epoch 26/100\n",
            "161/161 [==============================] - 0s 3ms/step - loss: 0.5673 - accuracy: 0.7109 - val_loss: 0.5521 - val_accuracy: 0.7439\n",
            "Epoch 27/100\n",
            "161/161 [==============================] - 0s 2ms/step - loss: 0.5673 - accuracy: 0.7152 - val_loss: 0.5544 - val_accuracy: 0.7439\n",
            "Epoch 28/100\n",
            "161/161 [==============================] - 0s 2ms/step - loss: 0.5666 - accuracy: 0.7143 - val_loss: 0.5550 - val_accuracy: 0.7404\n",
            "Epoch 29/100\n",
            "161/161 [==============================] - 0s 3ms/step - loss: 0.5658 - accuracy: 0.7193 - val_loss: 0.5566 - val_accuracy: 0.7158\n",
            "Epoch 30/100\n",
            "161/161 [==============================] - 0s 2ms/step - loss: 0.5662 - accuracy: 0.7129 - val_loss: 0.5553 - val_accuracy: 0.7404\n",
            "Epoch 31/100\n",
            "161/161 [==============================] - 0s 2ms/step - loss: 0.5661 - accuracy: 0.7131 - val_loss: 0.5519 - val_accuracy: 0.7456\n",
            "Epoch 32/100\n",
            "161/161 [==============================] - 0s 3ms/step - loss: 0.5661 - accuracy: 0.7102 - val_loss: 0.5524 - val_accuracy: 0.7456\n",
            "Epoch 33/100\n",
            "161/161 [==============================] - 0s 2ms/step - loss: 0.5655 - accuracy: 0.7170 - val_loss: 0.5516 - val_accuracy: 0.7456\n",
            "Epoch 34/100\n",
            "161/161 [==============================] - 0s 2ms/step - loss: 0.5652 - accuracy: 0.7168 - val_loss: 0.5532 - val_accuracy: 0.7439\n",
            "Epoch 35/100\n",
            "161/161 [==============================] - 0s 2ms/step - loss: 0.5653 - accuracy: 0.7166 - val_loss: 0.5534 - val_accuracy: 0.7439\n",
            "Epoch 36/100\n",
            "161/161 [==============================] - 0s 2ms/step - loss: 0.5652 - accuracy: 0.7162 - val_loss: 0.5500 - val_accuracy: 0.7368\n",
            "Epoch 37/100\n",
            "161/161 [==============================] - 0s 3ms/step - loss: 0.5655 - accuracy: 0.7162 - val_loss: 0.5505 - val_accuracy: 0.7439\n",
            "Epoch 38/100\n",
            "161/161 [==============================] - 0s 2ms/step - loss: 0.5654 - accuracy: 0.7164 - val_loss: 0.5536 - val_accuracy: 0.7404\n",
            "Epoch 39/100\n",
            "161/161 [==============================] - 0s 2ms/step - loss: 0.5650 - accuracy: 0.7168 - val_loss: 0.5521 - val_accuracy: 0.7439\n",
            "Epoch 40/100\n",
            "161/161 [==============================] - 0s 2ms/step - loss: 0.5647 - accuracy: 0.7172 - val_loss: 0.5536 - val_accuracy: 0.7404\n",
            "Epoch 41/100\n",
            "161/161 [==============================] - 0s 2ms/step - loss: 0.5643 - accuracy: 0.7166 - val_loss: 0.5503 - val_accuracy: 0.7421\n",
            "Epoch 42/100\n",
            "161/161 [==============================] - 0s 2ms/step - loss: 0.5644 - accuracy: 0.7150 - val_loss: 0.5508 - val_accuracy: 0.7404\n",
            "Epoch 43/100\n",
            "161/161 [==============================] - 0s 2ms/step - loss: 0.5643 - accuracy: 0.7141 - val_loss: 0.5524 - val_accuracy: 0.7421\n",
            "Epoch 44/100\n",
            "161/161 [==============================] - 0s 3ms/step - loss: 0.5640 - accuracy: 0.7119 - val_loss: 0.5524 - val_accuracy: 0.7404\n",
            "Epoch 45/100\n",
            "161/161 [==============================] - 1s 3ms/step - loss: 0.5645 - accuracy: 0.7141 - val_loss: 0.5521 - val_accuracy: 0.7421\n",
            "Epoch 46/100\n",
            "161/161 [==============================] - 1s 3ms/step - loss: 0.5637 - accuracy: 0.7176 - val_loss: 0.5511 - val_accuracy: 0.7456\n",
            "Epoch 47/100\n",
            "161/161 [==============================] - 1s 4ms/step - loss: 0.5639 - accuracy: 0.7166 - val_loss: 0.5504 - val_accuracy: 0.7439\n",
            "Epoch 48/100\n",
            "161/161 [==============================] - 1s 4ms/step - loss: 0.5639 - accuracy: 0.7168 - val_loss: 0.5510 - val_accuracy: 0.7456\n",
            "Epoch 49/100\n",
            "161/161 [==============================] - 1s 4ms/step - loss: 0.5637 - accuracy: 0.7172 - val_loss: 0.5507 - val_accuracy: 0.7456\n",
            "Epoch 50/100\n",
            "161/161 [==============================] - 1s 3ms/step - loss: 0.5633 - accuracy: 0.7168 - val_loss: 0.5530 - val_accuracy: 0.7404\n",
            "Epoch 51/100\n",
            "161/161 [==============================] - 0s 2ms/step - loss: 0.5633 - accuracy: 0.7166 - val_loss: 0.5518 - val_accuracy: 0.7439\n",
            "Epoch 52/100\n",
            "161/161 [==============================] - 0s 2ms/step - loss: 0.5631 - accuracy: 0.7174 - val_loss: 0.5500 - val_accuracy: 0.7421\n",
            "Epoch 53/100\n",
            "161/161 [==============================] - 0s 2ms/step - loss: 0.5631 - accuracy: 0.7166 - val_loss: 0.5540 - val_accuracy: 0.7386\n",
            "Epoch 54/100\n",
            "161/161 [==============================] - 0s 2ms/step - loss: 0.5638 - accuracy: 0.7172 - val_loss: 0.5524 - val_accuracy: 0.7404\n",
            "Epoch 55/100\n",
            "161/161 [==============================] - 0s 2ms/step - loss: 0.5633 - accuracy: 0.7143 - val_loss: 0.5505 - val_accuracy: 0.7456\n",
            "Epoch 56/100\n",
            "161/161 [==============================] - 0s 3ms/step - loss: 0.5629 - accuracy: 0.7172 - val_loss: 0.5509 - val_accuracy: 0.7456\n",
            "Epoch 57/100\n",
            "161/161 [==============================] - 0s 2ms/step - loss: 0.5628 - accuracy: 0.7162 - val_loss: 0.5525 - val_accuracy: 0.7404\n",
            "Epoch 58/100\n",
            "161/161 [==============================] - 0s 2ms/step - loss: 0.5626 - accuracy: 0.7152 - val_loss: 0.5493 - val_accuracy: 0.7404\n",
            "Epoch 59/100\n",
            "161/161 [==============================] - 0s 3ms/step - loss: 0.5628 - accuracy: 0.7176 - val_loss: 0.5505 - val_accuracy: 0.7439\n",
            "Epoch 60/100\n",
            "161/161 [==============================] - 0s 3ms/step - loss: 0.5627 - accuracy: 0.7172 - val_loss: 0.5511 - val_accuracy: 0.7456\n",
            "Epoch 61/100\n",
            "161/161 [==============================] - 0s 2ms/step - loss: 0.5635 - accuracy: 0.7158 - val_loss: 0.5496 - val_accuracy: 0.7439\n",
            "Epoch 62/100\n",
            "161/161 [==============================] - 0s 3ms/step - loss: 0.5620 - accuracy: 0.7170 - val_loss: 0.5498 - val_accuracy: 0.7404\n",
            "Epoch 63/100\n",
            "161/161 [==============================] - 0s 2ms/step - loss: 0.5625 - accuracy: 0.7164 - val_loss: 0.5504 - val_accuracy: 0.7456\n",
            "Epoch 64/100\n",
            "161/161 [==============================] - 0s 2ms/step - loss: 0.5627 - accuracy: 0.7172 - val_loss: 0.5515 - val_accuracy: 0.7421\n",
            "Epoch 65/100\n",
            "161/161 [==============================] - 0s 2ms/step - loss: 0.5626 - accuracy: 0.7162 - val_loss: 0.5502 - val_accuracy: 0.7439\n",
            "Epoch 66/100\n",
            "161/161 [==============================] - 0s 2ms/step - loss: 0.5623 - accuracy: 0.7152 - val_loss: 0.5503 - val_accuracy: 0.7439\n",
            "Epoch 67/100\n",
            "161/161 [==============================] - 0s 2ms/step - loss: 0.5624 - accuracy: 0.7168 - val_loss: 0.5499 - val_accuracy: 0.7439\n",
            "Epoch 68/100\n",
            "161/161 [==============================] - 0s 3ms/step - loss: 0.5626 - accuracy: 0.7168 - val_loss: 0.5531 - val_accuracy: 0.7404\n",
            "Epoch 69/100\n",
            "161/161 [==============================] - 0s 3ms/step - loss: 0.5623 - accuracy: 0.7162 - val_loss: 0.5500 - val_accuracy: 0.7439\n",
            "Epoch 70/100\n",
            "161/161 [==============================] - 0s 2ms/step - loss: 0.5625 - accuracy: 0.7174 - val_loss: 0.5506 - val_accuracy: 0.7439\n",
            "Epoch 71/100\n",
            "161/161 [==============================] - 0s 2ms/step - loss: 0.5621 - accuracy: 0.7176 - val_loss: 0.5497 - val_accuracy: 0.7404\n",
            "Epoch 72/100\n",
            "161/161 [==============================] - 0s 3ms/step - loss: 0.5627 - accuracy: 0.7164 - val_loss: 0.5517 - val_accuracy: 0.7404\n",
            "Epoch 73/100\n",
            "161/161 [==============================] - 0s 3ms/step - loss: 0.5621 - accuracy: 0.7164 - val_loss: 0.5506 - val_accuracy: 0.7439\n",
            "Epoch 74/100\n",
            "161/161 [==============================] - 0s 3ms/step - loss: 0.5624 - accuracy: 0.7135 - val_loss: 0.5511 - val_accuracy: 0.7421\n",
            "Epoch 75/100\n",
            "161/161 [==============================] - 0s 3ms/step - loss: 0.5620 - accuracy: 0.7166 - val_loss: 0.5490 - val_accuracy: 0.7404\n",
            "Epoch 76/100\n",
            "161/161 [==============================] - 1s 4ms/step - loss: 0.5613 - accuracy: 0.7170 - val_loss: 0.5509 - val_accuracy: 0.7439\n",
            "Epoch 77/100\n",
            "161/161 [==============================] - 1s 4ms/step - loss: 0.5626 - accuracy: 0.7180 - val_loss: 0.5510 - val_accuracy: 0.7439\n",
            "Epoch 78/100\n",
            "161/161 [==============================] - 1s 3ms/step - loss: 0.5617 - accuracy: 0.7164 - val_loss: 0.5507 - val_accuracy: 0.7439\n",
            "Epoch 79/100\n",
            "161/161 [==============================] - 1s 3ms/step - loss: 0.5619 - accuracy: 0.7174 - val_loss: 0.5502 - val_accuracy: 0.7439\n",
            "Epoch 80/100\n",
            "161/161 [==============================] - 1s 3ms/step - loss: 0.5620 - accuracy: 0.7162 - val_loss: 0.5493 - val_accuracy: 0.7439\n",
            "Epoch 81/100\n",
            "161/161 [==============================] - 1s 3ms/step - loss: 0.5618 - accuracy: 0.7158 - val_loss: 0.5506 - val_accuracy: 0.7439\n",
            "Epoch 82/100\n",
            "161/161 [==============================] - 0s 2ms/step - loss: 0.5623 - accuracy: 0.7164 - val_loss: 0.5507 - val_accuracy: 0.7439\n",
            "Epoch 83/100\n",
            "161/161 [==============================] - 0s 2ms/step - loss: 0.5620 - accuracy: 0.7172 - val_loss: 0.5500 - val_accuracy: 0.7439\n",
            "Epoch 84/100\n",
            "161/161 [==============================] - 0s 3ms/step - loss: 0.5619 - accuracy: 0.7168 - val_loss: 0.5490 - val_accuracy: 0.7421\n",
            "Epoch 85/100\n",
            "161/161 [==============================] - 0s 2ms/step - loss: 0.5624 - accuracy: 0.7178 - val_loss: 0.5501 - val_accuracy: 0.7439\n",
            "Epoch 86/100\n",
            "161/161 [==============================] - 0s 2ms/step - loss: 0.5617 - accuracy: 0.7182 - val_loss: 0.5502 - val_accuracy: 0.7439\n",
            "Epoch 87/100\n",
            "161/161 [==============================] - 0s 3ms/step - loss: 0.5618 - accuracy: 0.7170 - val_loss: 0.5502 - val_accuracy: 0.7439\n",
            "Epoch 88/100\n",
            "161/161 [==============================] - 0s 3ms/step - loss: 0.5618 - accuracy: 0.7170 - val_loss: 0.5507 - val_accuracy: 0.7439\n",
            "Epoch 89/100\n",
            "161/161 [==============================] - 0s 2ms/step - loss: 0.5617 - accuracy: 0.7172 - val_loss: 0.5526 - val_accuracy: 0.7404\n",
            "Epoch 90/100\n",
            "161/161 [==============================] - 0s 3ms/step - loss: 0.5622 - accuracy: 0.7166 - val_loss: 0.5532 - val_accuracy: 0.7404\n",
            "Epoch 91/100\n",
            "161/161 [==============================] - 0s 3ms/step - loss: 0.5621 - accuracy: 0.7172 - val_loss: 0.5500 - val_accuracy: 0.7439\n",
            "Epoch 92/100\n",
            "161/161 [==============================] - 0s 3ms/step - loss: 0.5619 - accuracy: 0.7185 - val_loss: 0.5522 - val_accuracy: 0.7386\n",
            "Epoch 93/100\n",
            "161/161 [==============================] - 0s 3ms/step - loss: 0.5621 - accuracy: 0.7133 - val_loss: 0.5501 - val_accuracy: 0.7439\n",
            "Epoch 94/100\n",
            "161/161 [==============================] - 0s 3ms/step - loss: 0.5616 - accuracy: 0.7166 - val_loss: 0.5503 - val_accuracy: 0.7421\n",
            "Epoch 95/100\n",
            "161/161 [==============================] - 0s 3ms/step - loss: 0.5612 - accuracy: 0.7172 - val_loss: 0.5497 - val_accuracy: 0.7404\n",
            "Epoch 96/100\n",
            "161/161 [==============================] - 0s 2ms/step - loss: 0.5620 - accuracy: 0.7184 - val_loss: 0.5500 - val_accuracy: 0.7439\n",
            "Epoch 97/100\n",
            "161/161 [==============================] - 0s 2ms/step - loss: 0.5617 - accuracy: 0.7170 - val_loss: 0.5530 - val_accuracy: 0.7404\n",
            "Epoch 98/100\n",
            "161/161 [==============================] - 0s 2ms/step - loss: 0.5617 - accuracy: 0.7184 - val_loss: 0.5500 - val_accuracy: 0.7404\n",
            "Epoch 99/100\n",
            "161/161 [==============================] - 0s 2ms/step - loss: 0.5619 - accuracy: 0.7172 - val_loss: 0.5517 - val_accuracy: 0.7404\n",
            "Epoch 100/100\n",
            "161/161 [==============================] - 0s 3ms/step - loss: 0.5617 - accuracy: 0.7174 - val_loss: 0.5521 - val_accuracy: 0.7386\n",
            "45/45 [==============================] - 0s 2ms/step - loss: 0.5738 - accuracy: 0.7109\n",
            "Exactitud en datos de prueba:  0.7108771800994873\n"
          ]
        }
      ]
    },
    {
      "cell_type": "markdown",
      "source": [
        "##Informe red neuronal"
      ],
      "metadata": {
        "id": "Cjb1-u9qhwe9"
      }
    },
    {
      "cell_type": "code",
      "source": [
        "y_pred_binario_RN = np.round(model.predict(X_test))\n",
        "\n",
        "informeRN = informe_modelo(y_test=y_test, y_pred=y_pred_binario_RN)"
      ],
      "metadata": {
        "colab": {
          "base_uri": "https://localhost:8080/",
          "height": 1000
        },
        "id": "QMsZXFlsiBLd",
        "outputId": "6ae1c381-7a28-4781-e3a3-acc232cb227d"
      },
      "execution_count": 111,
      "outputs": [
        {
          "output_type": "stream",
          "name": "stdout",
          "text": [
            "45/45 [==============================] - 0s 1ms/step\n",
            "La exactitud es: 0.7108771929824561\n",
            "La precision es: 0.6789536266349584\n",
            "La sensibilidad es: 0.8008415147265077\n",
            "\n",
            "    \n",
            "    \n",
            "    \n"
          ]
        },
        {
          "output_type": "display_data",
          "data": {
            "text/plain": [
              "<Figure size 640x480 with 2 Axes>"
            ],
            "image/png": "[encoded data removed]"
          },
          "metadata": {}
        },
        {
          "output_type": "stream",
          "name": "stdout",
          "text": [
            "\n",
            "    \n",
            "    \n",
            "    \n"
          ]
        },
        {
          "output_type": "display_data",
          "data": {
            "text/plain": [
              "<Figure size 640x480 with 1 Axes>"
            ],
            "image/png": "[encoded data removed]"
          },
          "metadata": {}
        }
      ]
    },
    {
      "cell_type": "markdown",
      "source": [
        "#Creacion de API y demo con gradio"
      ],
      "metadata": {
        "id": "r40ZDgLDjBRT"
      }
    },
    {
      "cell_type": "code",
      "source": [
        "def predict_lead_converted(total_visits, total_time_spent, page_views):\n",
        "    # Normaliza las entradas utilizando el escalador\n",
        "    inputs = np.array([[total_visits, total_time_spent, page_views]])\n",
        "    normalized_inputs = scaler.transform(inputs)\n",
        "    \n",
        "    # Realiza las predicciones utilizando el modelo\n",
        "    predictions = model.predict(normalized_inputs)\n",
        "    \n",
        "    # Devuelve los resultados de la predicción\n",
        "    if (predictions[0]) > 0.55:\n",
        "      return \"El cliente pasará a ser real\"\n",
        "    else:\n",
        "      return \"Posiblemente nunca llegue a ser un cliente real\"\n",
        "    \n",
        "\n",
        "# Define los tipos de entrada y salida\n",
        "input_components = [\n",
        "    gr.inputs.Slider(0.0, 251.0, step=1, label=\"Total Visits\"),\n",
        "    gr.inputs.Slider(0.0, 2272.0, step=1, label=\"Total Time Spent on Website\"),\n",
        "    gr.inputs.Slider(0.0, 55.0, step=1, label=\"Page Views Per Visit\")\n",
        "]\n",
        "\n",
        "output_component = gr.outputs.Label(label=\"¿Posible cliente?\")\n",
        "\n",
        "# Crea la interfaz de Gradio\n",
        "interface = gr.Interface(fn=predict_lead_converted, inputs=input_components, outputs=output_component)\n",
        "interface.launch()\n"
      ],
      "metadata": {
        "colab": {
          "base_uri": "https://localhost:8080/",
          "height": 755
        },
        "id": "HUdMjNbAjMS1",
        "outputId": "e7114bf5-5f6c-4e7e-d6e5-5047e68669e1"
      },
      "execution_count": 124,
      "outputs": [
        {
          "output_type": "stream",
          "name": "stderr",
          "text": [
            "/usr/local/lib/python3.10/dist-packages/gradio/inputs.py:89: UserWarning: Usage of gradio.inputs is deprecated, and will not be supported in the future, please import your component from gradio.components\n",
            "  warnings.warn(\n",
            "/usr/local/lib/python3.10/dist-packages/gradio/inputs.py:93: UserWarning: `optional` parameter is deprecated, and it has no effect\n",
            "  super().__init__(\n",
            "/usr/local/lib/python3.10/dist-packages/gradio/outputs.py:197: UserWarning: Usage of gradio.outputs is deprecated, and will not be supported in the future, please import your components from gradio.components\n",
            "  warnings.warn(\n",
            "/usr/local/lib/python3.10/dist-packages/gradio/outputs.py:200: UserWarning: The 'type' parameter has been deprecated. Use the Number component instead.\n",
            "  super().__init__(num_top_classes=num_top_classes, type=type, label=label)\n"
          ]
        },
        {
          "output_type": "stream",
          "name": "stdout",
          "text": [
            "Colab notebook detected. To show errors in colab notebook, set debug=True in launch()\n",
            "Note: opening Chrome Inspector may crash demo inside Colab notebooks.\n",
            "\n",
            "To create a public link, set `share=True` in `launch()`.\n"
          ]
        },
        {
          "output_type": "display_data",
          "data": {
            "text/plain": [
              "<IPython.core.display.Javascript object>"
            ],
            "application/javascript": [
              "(async (port, path, width, height, cache, element) => {\n",
              "                        if (!google.colab.kernel.accessAllowed && !cache) {\n",
              "                            return;\n",
              "                        }\n",
              "                        element.appendChild(document.createTextNode(''));\n",
              "                        const url = await google.colab.kernel.proxyPort(port, {cache});\n",
              "\n",
              "                        const external_link = document.createElement('div');\n",
              "                        external_link.innerHTML = `\n",
              "                            <div style=\"font-family: monospace; margin-bottom: 0.5rem\">\n",
              "                                Running on <a href=${new URL(path, url).toString()} target=\"_blank\">\n",
              "                                    https://localhost:${port}${path}\n",
              "                                </a>\n",
              "                            </div>\n",
              "                        `;\n",
              "                        element.appendChild(external_link);\n",
              "\n",
              "                        const iframe = document.createElement('iframe');\n",
              "                        iframe.src = new URL(path, url).toString();\n",
              "                        iframe.height = height;\n",
              "                        iframe.allow = \"autoplay; camera; microphone; clipboard-read; clipboard-write;\"\n",
              "                        iframe.width = width;\n",
              "                        iframe.style.border = 0;\n",
              "                        element.appendChild(iframe);\n",
              "                    })(7879, \"/\", \"100%\", 500, false, window.element)"
            ]
          },
          "metadata": {}
        },
        {
          "output_type": "execute_result",
          "data": {
            "text/plain": []
          },
          "metadata": {},
          "execution_count": 124
        }
      ]
    }
  ]
}
